{
 "cells": [
  {
   "cell_type": "markdown",
   "metadata": {},
   "source": [
    "# Generate model predictions"
   ]
  },
  {
   "cell_type": "markdown",
   "metadata": {},
   "source": [
    "Generate the predictions of the continuous model"
   ]
  },
  {
   "cell_type": "markdown",
   "metadata": {},
   "source": [
    "### Imports and setup"
   ]
  },
  {
   "cell_type": "code",
   "execution_count": 1,
   "metadata": {},
   "outputs": [],
   "source": [
    "import numpy as np\n",
    "import matplotlib.pyplot as plt\n",
    "np.set_printoptions(precision=4)\n",
    "from functions_continuous_model import time_evolution\n",
    "from system_definition import T, Lambda_0, tau, omega, s\n",
    "\n",
    "%load_ext autoreload\n",
    "%autoreload 2"
   ]
  },
  {
   "cell_type": "markdown",
   "metadata": {},
   "source": [
    "### Define the parameters of the model"
   ]
  },
  {
   "cell_type": "code",
   "execution_count": 2,
   "metadata": {},
   "outputs": [],
   "source": [
    "# Folder to save the results\n",
    "folder = 'RESULTS_Model/'\n",
    "\n",
    "# Basic parameters\n",
    "R0 = 1.5\n",
    "symptomatics = 0.8\n",
    "testing = 0.0\n",
    "delay = 2\n",
    "\n",
    "# Custom R0 used to run different simulations\n",
    "def beta(tau, R0):\n",
    "    return R0 * omega(tau)\n",
    "\n",
    "# Custom epsilon used to run different simulations\n",
    "def eps(tau, e_i, e_t):\n",
    "    eps_I = e_i + 0 * tau\n",
    "    eps_T = e_t + 0 * tau\n",
    "    return eps_I, eps_T\n",
    "\n",
    "# Size of the discretization grid for (eps_I, eps_T)\n",
    "n_i = 10\n",
    "n_t = 10"
   ]
  },
  {
   "cell_type": "markdown",
   "metadata": {},
   "source": [
    "### Run the time evolution"
   ]
  },
  {
   "cell_type": "code",
   "execution_count": 3,
   "metadata": {},
   "outputs": [
    {
     "name": "stdout",
     "output_type": "stream",
     "text": [
      "Running simulation [    1 /  100] ---- (ep_i, ep_t) = (0.00e+00, 0.00e+00)\n",
      "Running simulation [    2 /  100] ---- (ep_i, ep_t) = (0.00e+00, 1.11e-01)\n",
      "Running simulation [    3 /  100] ---- (ep_i, ep_t) = (0.00e+00, 2.22e-01)\n",
      "Running simulation [    4 /  100] ---- (ep_i, ep_t) = (0.00e+00, 3.33e-01)\n",
      "Running simulation [    5 /  100] ---- (ep_i, ep_t) = (0.00e+00, 4.44e-01)\n",
      "Running simulation [    6 /  100] ---- (ep_i, ep_t) = (0.00e+00, 5.56e-01)\n",
      "Running simulation [    7 /  100] ---- (ep_i, ep_t) = (0.00e+00, 6.67e-01)\n",
      "Running simulation [    8 /  100] ---- (ep_i, ep_t) = (0.00e+00, 7.78e-01)\n",
      "Running simulation [    9 /  100] ---- (ep_i, ep_t) = (0.00e+00, 8.89e-01)\n",
      "Running simulation [   10 /  100] ---- (ep_i, ep_t) = (0.00e+00, 1.00e+00)\n",
      "Running simulation [   11 /  100] ---- (ep_i, ep_t) = (1.11e-01, 0.00e+00)\n",
      "Running simulation [   12 /  100] ---- (ep_i, ep_t) = (1.11e-01, 1.11e-01)\n",
      "Running simulation [   13 /  100] ---- (ep_i, ep_t) = (1.11e-01, 2.22e-01)\n",
      "Running simulation [   14 /  100] ---- (ep_i, ep_t) = (1.11e-01, 3.33e-01)\n",
      "Running simulation [   15 /  100] ---- (ep_i, ep_t) = (1.11e-01, 4.44e-01)\n",
      "Running simulation [   16 /  100] ---- (ep_i, ep_t) = (1.11e-01, 5.56e-01)\n",
      "Running simulation [   17 /  100] ---- (ep_i, ep_t) = (1.11e-01, 6.67e-01)\n",
      "Running simulation [   18 /  100] ---- (ep_i, ep_t) = (1.11e-01, 7.78e-01)\n",
      "Running simulation [   19 /  100] ---- (ep_i, ep_t) = (1.11e-01, 8.89e-01)\n",
      "Running simulation [   20 /  100] ---- (ep_i, ep_t) = (1.11e-01, 1.00e+00)\n",
      "Running simulation [   21 /  100] ---- (ep_i, ep_t) = (2.22e-01, 0.00e+00)\n",
      "Running simulation [   22 /  100] ---- (ep_i, ep_t) = (2.22e-01, 1.11e-01)\n",
      "Running simulation [   23 /  100] ---- (ep_i, ep_t) = (2.22e-01, 2.22e-01)\n",
      "Running simulation [   24 /  100] ---- (ep_i, ep_t) = (2.22e-01, 3.33e-01)\n",
      "Running simulation [   25 /  100] ---- (ep_i, ep_t) = (2.22e-01, 4.44e-01)\n",
      "Running simulation [   26 /  100] ---- (ep_i, ep_t) = (2.22e-01, 5.56e-01)\n",
      "Running simulation [   27 /  100] ---- (ep_i, ep_t) = (2.22e-01, 6.67e-01)\n",
      "Running simulation [   28 /  100] ---- (ep_i, ep_t) = (2.22e-01, 7.78e-01)\n",
      "Running simulation [   29 /  100] ---- (ep_i, ep_t) = (2.22e-01, 8.89e-01)\n",
      "Running simulation [   30 /  100] ---- (ep_i, ep_t) = (2.22e-01, 1.00e+00)\n",
      "Running simulation [   31 /  100] ---- (ep_i, ep_t) = (3.33e-01, 0.00e+00)\n",
      "Running simulation [   32 /  100] ---- (ep_i, ep_t) = (3.33e-01, 1.11e-01)\n",
      "Running simulation [   33 /  100] ---- (ep_i, ep_t) = (3.33e-01, 2.22e-01)\n",
      "Running simulation [   34 /  100] ---- (ep_i, ep_t) = (3.33e-01, 3.33e-01)\n",
      "Running simulation [   35 /  100] ---- (ep_i, ep_t) = (3.33e-01, 4.44e-01)\n",
      "Running simulation [   36 /  100] ---- (ep_i, ep_t) = (3.33e-01, 5.56e-01)\n",
      "Running simulation [   37 /  100] ---- (ep_i, ep_t) = (3.33e-01, 6.67e-01)\n",
      "Running simulation [   38 /  100] ---- (ep_i, ep_t) = (3.33e-01, 7.78e-01)\n",
      "Running simulation [   39 /  100] ---- (ep_i, ep_t) = (3.33e-01, 8.89e-01)\n",
      "Running simulation [   40 /  100] ---- (ep_i, ep_t) = (3.33e-01, 1.00e+00)\n",
      "Running simulation [   41 /  100] ---- (ep_i, ep_t) = (4.44e-01, 0.00e+00)\n",
      "Running simulation [   42 /  100] ---- (ep_i, ep_t) = (4.44e-01, 1.11e-01)\n",
      "Running simulation [   43 /  100] ---- (ep_i, ep_t) = (4.44e-01, 2.22e-01)\n",
      "Running simulation [   44 /  100] ---- (ep_i, ep_t) = (4.44e-01, 3.33e-01)\n",
      "Running simulation [   45 /  100] ---- (ep_i, ep_t) = (4.44e-01, 4.44e-01)\n",
      "Running simulation [   46 /  100] ---- (ep_i, ep_t) = (4.44e-01, 5.56e-01)\n",
      "Running simulation [   47 /  100] ---- (ep_i, ep_t) = (4.44e-01, 6.67e-01)\n",
      "Running simulation [   48 /  100] ---- (ep_i, ep_t) = (4.44e-01, 7.78e-01)\n",
      "Running simulation [   49 /  100] ---- (ep_i, ep_t) = (4.44e-01, 8.89e-01)\n",
      "Running simulation [   50 /  100] ---- (ep_i, ep_t) = (4.44e-01, 1.00e+00)\n",
      "Running simulation [   51 /  100] ---- (ep_i, ep_t) = (5.56e-01, 0.00e+00)\n",
      "Running simulation [   52 /  100] ---- (ep_i, ep_t) = (5.56e-01, 1.11e-01)\n",
      "Running simulation [   53 /  100] ---- (ep_i, ep_t) = (5.56e-01, 2.22e-01)\n",
      "Running simulation [   54 /  100] ---- (ep_i, ep_t) = (5.56e-01, 3.33e-01)\n",
      "Running simulation [   55 /  100] ---- (ep_i, ep_t) = (5.56e-01, 4.44e-01)\n",
      "Running simulation [   56 /  100] ---- (ep_i, ep_t) = (5.56e-01, 5.56e-01)\n",
      "Running simulation [   57 /  100] ---- (ep_i, ep_t) = (5.56e-01, 6.67e-01)\n",
      "Running simulation [   58 /  100] ---- (ep_i, ep_t) = (5.56e-01, 7.78e-01)\n",
      "Running simulation [   59 /  100] ---- (ep_i, ep_t) = (5.56e-01, 8.89e-01)\n",
      "Running simulation [   60 /  100] ---- (ep_i, ep_t) = (5.56e-01, 1.00e+00)\n",
      "Running simulation [   61 /  100] ---- (ep_i, ep_t) = (6.67e-01, 0.00e+00)\n",
      "Running simulation [   62 /  100] ---- (ep_i, ep_t) = (6.67e-01, 1.11e-01)\n",
      "Running simulation [   63 /  100] ---- (ep_i, ep_t) = (6.67e-01, 2.22e-01)\n",
      "Running simulation [   64 /  100] ---- (ep_i, ep_t) = (6.67e-01, 3.33e-01)\n",
      "Running simulation [   65 /  100] ---- (ep_i, ep_t) = (6.67e-01, 4.44e-01)\n",
      "Running simulation [   66 /  100] ---- (ep_i, ep_t) = (6.67e-01, 5.56e-01)\n",
      "Running simulation [   67 /  100] ---- (ep_i, ep_t) = (6.67e-01, 6.67e-01)\n",
      "Running simulation [   68 /  100] ---- (ep_i, ep_t) = (6.67e-01, 7.78e-01)\n",
      "Running simulation [   69 /  100] ---- (ep_i, ep_t) = (6.67e-01, 8.89e-01)\n",
      "Running simulation [   70 /  100] ---- (ep_i, ep_t) = (6.67e-01, 1.00e+00)\n",
      "Running simulation [   71 /  100] ---- (ep_i, ep_t) = (7.78e-01, 0.00e+00)\n",
      "Running simulation [   72 /  100] ---- (ep_i, ep_t) = (7.78e-01, 1.11e-01)\n",
      "Running simulation [   73 /  100] ---- (ep_i, ep_t) = (7.78e-01, 2.22e-01)\n",
      "Running simulation [   74 /  100] ---- (ep_i, ep_t) = (7.78e-01, 3.33e-01)\n",
      "Running simulation [   75 /  100] ---- (ep_i, ep_t) = (7.78e-01, 4.44e-01)\n",
      "Running simulation [   76 /  100] ---- (ep_i, ep_t) = (7.78e-01, 5.56e-01)\n",
      "Running simulation [   77 /  100] ---- (ep_i, ep_t) = (7.78e-01, 6.67e-01)\n",
      "Running simulation [   78 /  100] ---- (ep_i, ep_t) = (7.78e-01, 7.78e-01)\n",
      "Running simulation [   79 /  100] ---- (ep_i, ep_t) = (7.78e-01, 8.89e-01)\n",
      "Running simulation [   80 /  100] ---- (ep_i, ep_t) = (7.78e-01, 1.00e+00)\n",
      "Running simulation [   81 /  100] ---- (ep_i, ep_t) = (8.89e-01, 0.00e+00)\n",
      "Running simulation [   82 /  100] ---- (ep_i, ep_t) = (8.89e-01, 1.11e-01)\n",
      "Running simulation [   83 /  100] ---- (ep_i, ep_t) = (8.89e-01, 2.22e-01)\n",
      "Running simulation [   84 /  100] ---- (ep_i, ep_t) = (8.89e-01, 3.33e-01)\n",
      "Running simulation [   85 /  100] ---- (ep_i, ep_t) = (8.89e-01, 4.44e-01)\n",
      "Running simulation [   86 /  100] ---- (ep_i, ep_t) = (8.89e-01, 5.56e-01)\n",
      "Running simulation [   87 /  100] ---- (ep_i, ep_t) = (8.89e-01, 6.67e-01)\n",
      "Running simulation [   88 /  100] ---- (ep_i, ep_t) = (8.89e-01, 7.78e-01)\n",
      "Running simulation [   89 /  100] ---- (ep_i, ep_t) = (8.89e-01, 8.89e-01)\n",
      "Running simulation [   90 /  100] ---- (ep_i, ep_t) = (8.89e-01, 1.00e+00)\n",
      "Running simulation [   91 /  100] ---- (ep_i, ep_t) = (1.00e+00, 0.00e+00)\n",
      "Running simulation [   92 /  100] ---- (ep_i, ep_t) = (1.00e+00, 1.11e-01)\n",
      "Running simulation [   93 /  100] ---- (ep_i, ep_t) = (1.00e+00, 2.22e-01)\n",
      "Running simulation [   94 /  100] ---- (ep_i, ep_t) = (1.00e+00, 3.33e-01)\n",
      "Running simulation [   95 /  100] ---- (ep_i, ep_t) = (1.00e+00, 4.44e-01)\n",
      "Running simulation [   96 /  100] ---- (ep_i, ep_t) = (1.00e+00, 5.56e-01)\n",
      "Running simulation [   97 /  100] ---- (ep_i, ep_t) = (1.00e+00, 6.67e-01)\n",
      "Running simulation [   98 /  100] ---- (ep_i, ep_t) = (1.00e+00, 7.78e-01)\n",
      "Running simulation [   99 /  100] ---- (ep_i, ep_t) = (1.00e+00, 8.89e-01)\n",
      "Running simulation [  100 /  100] ---- (ep_i, ep_t) = (1.00e+00, 1.00e+00)\n"
     ]
    }
   ],
   "source": [
    "ep_i = np.linspace(0, 1, n_i)    \n",
    "ep_t = np.linspace(0, 1, n_t)    \n",
    "\n",
    "tail_length = 10\n",
    "\n",
    "end_value = np.zeros((n_i, n_t))\n",
    "\n",
    "for i in range(n_i):\n",
    "    for j in range(n_t):\n",
    "        print('Running simulation [ % 4d / % 4d] ---- (ep_i, ep_t) = (%2.2e, %2.2e)' \n",
    "              % (1 + i * n_t + j, n_i * n_t, ep_i[i], ep_t[j]))\n",
    "        lambda_ , _, _ = time_evolution(tau, Lambda_0, T, \n",
    "                                        epsilon=lambda tau: eps(tau, ep_i[i], ep_t[j]),\n",
    "                                        beta=lambda tau: beta(tau, R0=R0),\n",
    "                                        s=lambda tau: s(tau, symptomatics=symptomatics, testing=testing, delay=delay))\n",
    "        R_t = lambda_[1:] / lambda_[:-1]\n",
    "        end_value[i, j] = np.mean(R_t[-tail_length:])\n",
    "\n",
    "\n",
    "end_value = (end_value - 1) * 100  "
   ]
  },
  {
   "cell_type": "markdown",
   "metadata": {},
   "source": [
    "### Save the results"
   ]
  },
  {
   "cell_type": "code",
   "execution_count": 4,
   "metadata": {},
   "outputs": [],
   "source": [
    "# File where to save the results\n",
    "base_name = 'critical_values_asympt_20_R0_%2.2f_sympt_%2.2f_testing_%2.2f_delay_%2.d_ni_%2.d_nt_%2.d.csv' % (R0, symptomatics, testing, delay, n_i, n_t)\n",
    "  \n",
    "np.savetxt(folder + base_name, end_value, delimiter=',')"
   ]
  },
  {
   "cell_type": "code",
   "execution_count": null,
   "metadata": {},
   "outputs": [],
   "source": []
  },
  {
   "cell_type": "code",
   "execution_count": null,
   "metadata": {},
   "outputs": [],
   "source": []
  },
  {
   "cell_type": "code",
   "execution_count": null,
   "metadata": {},
   "outputs": [],
   "source": []
  }
 ],
 "metadata": {
  "kernelspec": {
   "display_name": "Python 3",
   "language": "python",
   "name": "python3"
  },
  "language_info": {
   "codemirror_mode": {
    "name": "ipython",
    "version": 3
   },
   "file_extension": ".py",
   "mimetype": "text/x-python",
   "name": "python",
   "nbconvert_exporter": "python",
   "pygments_lexer": "ipython3",
   "version": "3.6.8"
  }
 },
 "nbformat": 4,
 "nbformat_minor": 2
}
