{
 "cells": [
  {
   "cell_type": "markdown",
   "metadata": {},
   "source": [
    "# Digital-Contact-Tracing on DTU"
   ]
  },
  {
   "cell_type": "markdown",
   "metadata": {},
   "source": [
    "This notebook demonstrates the use of the simulator on the DTU dataset."
   ]
  },
  {
   "cell_type": "markdown",
   "metadata": {},
   "source": [
    "### Imports and setup"
   ]
  },
  {
   "cell_type": "code",
   "execution_count": 1,
   "metadata": {},
   "outputs": [],
   "source": [
    "import numpy as np\n",
    "import DigitalContactTracing as DCT\n",
    "from load_temporal_graph import load_df, build_graphs, get_array_of_contacts\n",
    "from utils import get_DTU_graph\n",
    "\n",
    "%load_ext autoreload\n",
    "%autoreload 2"
   ]
  },
  {
   "cell_type": "markdown",
   "metadata": {},
   "source": [
    "### Define the parameters of the simulation"
   ]
  },
  {
   "cell_type": "code",
   "execution_count": 2,
   "metadata": {},
   "outputs": [
    {
     "data": {
      "text/plain": [
       "{'temporal_gap': 300,\n",
       " 'memory_contacts': 7,\n",
       " 'max_time_quar': 10,\n",
       " 'R0_reduction_factor': 1.0,\n",
       " 'policies': {'policy1': [-73, 1800],\n",
       "  'policy2': [-80, 1200],\n",
       "  'policy3': [-83, 900],\n",
       "  'policy4': [-87, 600],\n",
       "  'policy5': [-91, 300],\n",
       "  'policy6': [-91, 1800],\n",
       "  'policy7': [-70, 300]},\n",
       " 'eps_Is': [0.2, 0.5, 0.8, 1.0],\n",
       " 'times': 100,\n",
       " 'seed': 11,\n",
       " 'Y_i': 1,\n",
       " 'nc': 0.0,\n",
       " 'symptomatics': 0.6,\n",
       " 'testing': 0.5,\n",
       " 'store': {'to_store': True, 'path_to_store': 'RESULTS/sim1/'}}"
      ]
     },
     "execution_count": 2,
     "metadata": {},
     "output_type": "execute_result"
    }
   ],
   "source": [
    "import simulation_parameters\n",
    "PARAMETERS = simulation_parameters.parameters_dict[1]\n",
    "PARAMETERS"
   ]
  },
  {
   "cell_type": "markdown",
   "metadata": {},
   "source": [
    "### Load the temporal graph"
   ]
  },
  {
   "cell_type": "code",
   "execution_count": 3,
   "metadata": {},
   "outputs": [
    {
     "name": "stdout",
     "output_type": "stream",
     "text": [
      "Graph already computed: load from memory\n"
     ]
    }
   ],
   "source": [
    "graphs = get_DTU_graph(PARAMETERS['temporal_gap']) # The first time it's computed and saved, then it's just loaded"
   ]
  },
  {
   "cell_type": "markdown",
   "metadata": {},
   "source": [
    "### Run the simulations and store the results"
   ]
  },
  {
   "cell_type": "code",
   "execution_count": null,
   "metadata": {},
   "outputs": [
    {
     "name": "stdout",
     "output_type": "stream",
     "text": [
      "Computing the policy adjacency matrix with policy: policy1\n",
      "----------------------------------------------------------------------------------------------------\n",
      "Running simulation with policy: policy1\n",
      "       |_ eps_I             : +0.20\n",
      "       |_ filter_rssi       : -73.00\n",
      "       |_ filter_duration   : +1800.00\n",
      "\n",
      "       Running simulation     [   1 /  100]\n",
      "       Running simulation     [   2 /  100]\n",
      "       Running simulation     [   3 /  100]\n",
      "       Running simulation     [   4 /  100]\n",
      "       Running simulation     [   5 /  100]\n",
      "       Running simulation     [   6 /  100]\n",
      "       Running simulation     [   7 /  100]\n",
      "       Running simulation     [   8 /  100]\n",
      "       Running simulation     [   9 /  100]\n",
      "       Running simulation     [  10 /  100]\n",
      "       Running simulation     [  11 /  100]\n",
      "       Running simulation     [  12 /  100]\n",
      "       Running simulation     [  13 /  100]\n",
      "       Running simulation     [  14 /  100]\n",
      "       Running simulation     [  15 /  100]\n"
     ]
    }
   ],
   "source": [
    "# Initialize the random seed\n",
    "np.random.seed(PARAMETERS[\"seed\"])\n",
    "\n",
    "# Run over each configuration\n",
    "for policy in PARAMETERS[\"policies\"]:\n",
    "    filter_rssi = PARAMETERS[\"policies\"][policy][0]\n",
    "    filter_duration = PARAMETERS[\"policies\"][policy][1]\n",
    "    print('Computing the policy adjacency matrix with policy: %s' % policy)\n",
    "    A_policy = DCT.policy_adjacency_matrix(graphs, filter_duration, filter_rssi)\n",
    "    \n",
    "    for eps_I in PARAMETERS[\"eps_Is\"]:\n",
    "        results = []\n",
    "        \n",
    "        # Print some report\n",
    "        print(\"-\" * 100)\n",
    "        print('Running simulation with policy: %s' % policy)\n",
    "        print('       |_ eps_I             : %+4.2f'   % eps_I)\n",
    "        print('       |_ filter_rssi       : %+4.2f' % filter_rssi)\n",
    "        print('       |_ filter_duration   : %+4.2f' % filter_duration)\n",
    "        print('')\n",
    "        \n",
    "        # Repeat the simulation for a fixed configuration \n",
    "        for i in range(PARAMETERS[\"times\"]):\n",
    "            # Print some report\n",
    "            print('       Running simulation     [%4d / %4d]' % (i + 1, PARAMETERS['times']))\n",
    "\n",
    "            # Initialize the simulation object\n",
    "            dct = DCT.DigitalContactTracing(graphs=graphs,\n",
    "                                            PARAMETERS = PARAMETERS,\n",
    "                                            eps_I=eps_I,\n",
    "                                            filter_rssi=filter_rssi,\n",
    "                                            filter_duration=filter_duration,\n",
    "                                            A_policy=A_policy)\n",
    "            # Run the actual simulation\n",
    "            res = dct.simulate()\n",
    "            \n",
    "            # Save the results    \n",
    "            if PARAMETERS[\"store\"][\"to_store\"]:    \n",
    "                DCT.store_real_time(res, PARAMETERS, filter_rssi, filter_duration, eps_I)"
   ]
  },
  {
   "cell_type": "code",
   "execution_count": null,
   "metadata": {},
   "outputs": [],
   "source": []
  }
 ],
 "metadata": {
  "kernelspec": {
   "display_name": "Python 3",
   "language": "python",
   "name": "python3"
  },
  "language_info": {
   "codemirror_mode": {
    "name": "ipython",
    "version": 3
   },
   "file_extension": ".py",
   "mimetype": "text/x-python",
   "name": "python",
   "nbconvert_exporter": "python",
   "pygments_lexer": "ipython3",
   "version": "3.8.3"
  }
 },
 "nbformat": 4,
 "nbformat_minor": 2
}
