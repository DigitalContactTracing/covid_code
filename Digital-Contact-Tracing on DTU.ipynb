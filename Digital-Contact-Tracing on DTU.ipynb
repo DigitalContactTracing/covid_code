{
 "cells": [
  {
   "cell_type": "code",
   "execution_count": 1,
   "metadata": {},
   "outputs": [],
   "source": [
    "import DigitalContactTracing as DCT\n",
    "from load_temporal_graph import *\n",
    "\n",
    "%load_ext autoreload\n",
    "%autoreload 2"
   ]
  },
  {
   "cell_type": "code",
   "execution_count": 2,
   "metadata": {},
   "outputs": [],
   "source": [
    "\n",
    "PARAMETERS = {\"temporal_gap\" : 900,\n",
    "              \"memory_contacts\" : 7, # days\n",
    "              \"max_time_quar\" : 10, # days\n",
    "              \"policies\" : {\"policy1\":[-100,600]},\n",
    "              \"eps_Is\" : [0.5,0.2],\n",
    "              \"times\" : 2,\n",
    "              \"seed\" : 11,\n",
    "              \"Y_i\" : 10,\n",
    "              \"nc\" : 0.2,\n",
    "              \"beta_t\": 0.002,\n",
    "              \"symptomatics\" : 0.8,   # number of symptomatic people (old notation: p)\n",
    "              \"testing\" : 0.25,\n",
    "              \"store\":{\"to_store\": True,\n",
    "                       \"path_to_store\":\"RESULTS/\"}} \n"
   ]
  },
  {
   "cell_type": "code",
   "execution_count": 3,
   "metadata": {},
   "outputs": [],
   "source": [
    "df = load_df(\"Dataset//bt_symmetric.csv\",n_row =100000)#,n_individuals=100)\n",
    "graphs = build_graphs(get_array_of_contacts(df,PARAMETERS[\"temporal_gap\"]),PARAMETERS[\"temporal_gap\"])"
   ]
  },
  {
   "cell_type": "code",
   "execution_count": null,
   "metadata": {},
   "outputs": [],
   "source": []
  },
  {
   "cell_type": "code",
   "execution_count": 6,
   "metadata": {},
   "outputs": [
    {
     "name": "stdout",
     "output_type": "stream",
     "text": [
      "----------------------------------------------------------------------------------------------------\n",
      "----------------------------------------------------------------------------------------------------\n",
      "Simulation saved in  RESULTS/\n",
      "----------------------------------------------------------------------------------------------------\n",
      "----------------------------------------------------------------------------------------------------\n",
      "Simulation saved in  RESULTS/\n"
     ]
    }
   ],
   "source": [
    "\n",
    "np.random.seed(PARAMETERS[\"seed\"])\n",
    "\n",
    "for eps_I in PARAMETERS[\"eps_Is\"]:\n",
    "    for policy in PARAMETERS[\"policies\"]:\n",
    "        filter_rssi = PARAMETERS[\"policies\"][policy][0]\n",
    "        filter_duration = PARAMETERS[\"policies\"][policy][1]\n",
    "        results = []\n",
    "        for i in range(PARAMETERS[\"times\"]):\n",
    "            print(\"-\"*100)\n",
    "            dct = DCT.DigitalContactTracing(graphs = graphs,\n",
    "                                            PARAMETERS = PARAMETERS,\n",
    "                                            eps_I=eps_I,\n",
    "                                            filter_rssi=filter_rssi,\n",
    "                                            filter_duration=filter_duration)\n",
    "            \n",
    "            res = dct.simulate()\n",
    "            results.append(res)\n",
    "            \n",
    "        DCT.store_results(results,PARAMETERS,filter_rssi,filter_duration,eps_I)\n",
    "        \n",
    "        "
   ]
  },
  {
   "cell_type": "code",
   "execution_count": null,
   "metadata": {},
   "outputs": [],
   "source": []
  },
  {
   "cell_type": "code",
   "execution_count": null,
   "metadata": {},
   "outputs": [],
   "source": []
  },
  {
   "cell_type": "code",
   "execution_count": null,
   "metadata": {},
   "outputs": [],
   "source": []
  },
  {
   "cell_type": "code",
   "execution_count": null,
   "metadata": {},
   "outputs": [],
   "source": []
  },
  {
   "cell_type": "code",
   "execution_count": null,
   "metadata": {},
   "outputs": [],
   "source": []
  },
  {
   "cell_type": "code",
   "execution_count": null,
   "metadata": {},
   "outputs": [],
   "source": []
  }
 ],
 "metadata": {
  "kernelspec": {
   "display_name": "Python 3",
   "language": "python",
   "name": "python3"
  },
  "language_info": {
   "codemirror_mode": {
    "name": "ipython",
    "version": 3
   },
   "file_extension": ".py",
   "mimetype": "text/x-python",
   "name": "python",
   "nbconvert_exporter": "python",
   "pygments_lexer": "ipython3",
   "version": "3.7.0"
  }
 },
 "nbformat": 4,
 "nbformat_minor": 2
}
