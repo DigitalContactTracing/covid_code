{
 "cells": [
  {
   "cell_type": "markdown",
   "metadata": {},
   "source": [
    "# Digital-Contact-Tracing on DTU"
   ]
  },
  {
   "cell_type": "markdown",
   "metadata": {},
   "source": [
    "This notebook demonstrates the use of the simulator on the DTU dataset."
   ]
  },
  {
   "cell_type": "markdown",
   "metadata": {},
   "source": [
    "### Imports and setup"
   ]
  },
  {
   "cell_type": "code",
   "execution_count": 1,
   "metadata": {},
   "outputs": [],
   "source": [
    "import numpy as np\n",
    "import DigitalContactTracing as DCT\n",
    "from load_temporal_graph import load_df, build_graphs, get_array_of_contacts\n",
    "\n",
    "%load_ext autoreload\n",
    "%autoreload 2"
   ]
  },
  {
   "cell_type": "markdown",
   "metadata": {},
   "source": [
    "### Define the parameters of the simulation"
   ]
  },
  {
   "cell_type": "code",
   "execution_count": 2,
   "metadata": {},
   "outputs": [],
   "source": [
    "PARAMETERS = {\"temporal_gap\" : 900,                 # Temporal gap between static networks (sec)\n",
    "              \"memory_contacts\" : 7,                # Tracing memory (days)\n",
    "              \"max_time_quar\" : 10,                 # Quarantine duration (days)\n",
    "              \"policies\" : {\"policy1\":[-100,600]},  # Digital tracing policies [RSSI, duration (sec)]\n",
    "              \"eps_Is\" : [0.5,0.2],                 # Isolation effectivity\n",
    "              \"times\" : 2,                          # Number of repetition of the simulation\n",
    "              \"seed\" : 11,                          # Random seed \n",
    "              \"Y_i\" : 10,                           # Number of initially infected people\n",
    "              \"nc\" : 0.2,                           # Fraction of individuals who are not adopting the app\n",
    "              \"beta_t\": 0.002,                      # Parameter defining the infectiousness probability\n",
    "              \"symptomatics\" : 0.8,                 # Fraction of symptomatic individuals \n",
    "              \"testing\" : 0.25,                     # Fraction of asymptomatics who are detected via random testing\n",
    "              \"store\":{\"to_store\": True,            # Save the results?\n",
    "                       \"path_to_store\":\"RESULTS/\"}} # Target folder to save the results"
   ]
  },
  {
   "cell_type": "markdown",
   "metadata": {},
   "source": [
    "### Load the temporal graph"
   ]
  },
  {
   "cell_type": "code",
   "execution_count": 16,
   "metadata": {},
   "outputs": [
    {
     "name": "stdout",
     "output_type": "stream",
     "text": [
      "(2426279, 4)\n"
     ]
    }
   ],
   "source": [
    "df = load_df(\"Dataset//bt_symmetric.csv\", n_row=2000000)\n",
    "graphs = build_graphs(get_array_of_contacts(df, PARAMETERS[\"temporal_gap\"], column_name='# timestamp'), \n",
    "                      PARAMETERS[\"temporal_gap\"])"
   ]
  },
  {
   "cell_type": "markdown",
   "metadata": {},
   "source": [
    "### Run the simulations and store the results"
   ]
  },
  {
   "cell_type": "code",
   "execution_count": 17,
   "metadata": {},
   "outputs": [
    {
     "name": "stdout",
     "output_type": "stream",
     "text": [
      "----------------------------------------------------------------------------------------------------\n",
      "Running simulation with policy: policy1\n",
      "       |_ eps_I             : +0.50\n",
      "       |_ filter_rssi       : -100.00\n",
      "       |_ filter_duration   : +600.00\n",
      "\n",
      "       Running simulation     [   1 /    2]\n",
      "       Running simulation     [   2 /    2]\n",
      "----------------------------------------------------------------------------------------------------\n",
      "Running simulation with policy: policy1\n",
      "       |_ eps_I             : +0.20\n",
      "       |_ filter_rssi       : -100.00\n",
      "       |_ filter_duration   : +600.00\n",
      "\n",
      "       Running simulation     [   1 /    2]\n",
      "       Running simulation     [   2 /    2]\n"
     ]
    }
   ],
   "source": [
    "# Initialize the random seed\n",
    "np.random.seed(PARAMETERS[\"seed\"])\n",
    "\n",
    "# Run over each configuration\n",
    "for policy in PARAMETERS[\"policies\"]:\n",
    "    for eps_I in PARAMETERS[\"eps_Is\"]:\n",
    "        filter_rssi = PARAMETERS[\"policies\"][policy][0]\n",
    "        filter_duration = PARAMETERS[\"policies\"][policy][1]\n",
    "        results = []\n",
    "        \n",
    "        # Print some report\n",
    "        print(\"-\" * 100)\n",
    "        print('Running simulation with policy: %s' % policy)\n",
    "        print('       |_ eps_I             : %+4.2f'   % eps_I)\n",
    "        print('       |_ filter_rssi       : %+4.2f' % filter_rssi)\n",
    "        print('       |_ filter_duration   : %+4.2f' % filter_duration)\n",
    "        print('')\n",
    "        \n",
    "        # Repeat the simulation for a fixed configuration \n",
    "        for i in range(PARAMETERS[\"times\"]):\n",
    "            # Print some report\n",
    "            print('       Running simulation     [%4d / %4d]' % (i + 1, PARAMETERS['times']))\n",
    "\n",
    "            # Initialize the simulation object\n",
    "            dct = DCT.DigitalContactTracing(graphs = graphs,\n",
    "                                            PARAMETERS = PARAMETERS,\n",
    "                                            eps_I=eps_I,\n",
    "                                            filter_rssi=filter_rssi,\n",
    "                                            filter_duration=filter_duration)\n",
    "            # Run the actual simulation\n",
    "            res = dct.simulate()\n",
    "            \n",
    "            # Save the results    \n",
    "            if PARAMETERS[\"store\"][\"to_store\"]:    \n",
    "                DCT.store_real_time(res,PARAMETERS,filter_rssi,filter_duration,eps_I)"
   ]
  },
  {
   "cell_type": "code",
   "execution_count": 6,
   "metadata": {},
   "outputs": [
    {
     "name": "stdout",
     "output_type": "stream",
     "text": [
      "Thu Jul  9 07:53:45 2020    execution_stats\n",
      "\n",
      "         16171067 function calls in 7.507 seconds\n",
      "\n",
      "   Ordered by: cumulative time\n",
      "   List reduced from 56 to 30 due to restriction <30>\n",
      "\n",
      "   ncalls  tottime  percall  cumtime  percall filename:lineno(function)\n",
      "        1    0.000    0.000    7.507    7.507 {built-in method builtins.exec}\n",
      "        1    0.000    0.000    7.507    7.507 <string>:1(<module>)\n",
      "        1    0.091    0.091    7.507    7.507 DigitalContactTracing.py:233(simulate)\n",
      "     1116    0.630    0.001    6.424    0.006 DigitalContactTracing.py:523(update_contacts)\n",
      "   751068    1.769    0.000    5.399    0.000 DigitalContactTracing.py:371(policy)\n",
      "  1848078    0.922    0.000    2.888    0.000 graph.py:451(__getitem__)\n",
      "  1848078    0.874    0.000    1.087    0.000 graph.py:349(adj)\n",
      "  1848078    0.691    0.000    0.879    0.000 coreviews.py:80(__getitem__)\n",
      "     1116    0.079    0.000    0.618    0.001 DigitalContactTracing.py:311(update_infected)\n",
      "    23134    0.092    0.000    0.458    0.000 DigitalContactTracing.py:467(spread_infection)\n",
      "  3696156    0.401    0.000    0.401    0.000 coreviews.py:44(__init__)\n",
      "  1848078    0.322    0.000    0.322    0.000 coreviews.py:53(__getitem__)\n",
      "   204807    0.085    0.000    0.279    0.000 graph.py:1198(neighbors)\n",
      "   299485    0.260    0.000    0.260    0.000 {method 'pop' of 'list' objects}\n",
      "     1116    0.218    0.000    0.218    0.000 DigitalContactTracing.py:549(update_quarantined)\n",
      "   204807    0.194    0.000    0.194    0.000 {built-in method builtins.iter}\n",
      "    23595    0.029    0.000    0.191    0.000 system_definition.py:58(beta_data)\n",
      "  1894745    0.172    0.000    0.172    0.000 {method 'append' of 'list' objects}\n",
      "   774202    0.160    0.000    0.160    0.000 graph.py:416(__contains__)\n",
      "    46744    0.144    0.000    0.144    0.000 {method 'uniform' of 'numpy.random.mtrand.RandomState' objects}\n",
      "    23595    0.081    0.000    0.098    0.000 system_definition.py:52(beta_dist_sign)\n",
      "       59    0.000    0.000    0.072    0.001 {built-in method numpy.core._multiarray_umath.implement_array_function}\n",
      "       40    0.000    0.000    0.071    0.002 <__array_function__ internals>:2(unique)\n",
      "       40    0.000    0.000    0.071    0.002 arraysetops.py:151(unique)\n",
      "   755594    0.066    0.000    0.066    0.000 {built-in method builtins.len}\n",
      "     1116    0.037    0.000    0.066    0.000 DigitalContactTracing.py:351(check_quarantined)\n",
      "    23595    0.053    0.000    0.053    0.000 system_definition.py:12(omega)\n",
      "       99    0.000    0.000    0.042    0.000 _asarray.py:88(asanyarray)\n",
      "       99    0.042    0.000    0.042    0.000 {built-in method numpy.array}\n",
      "       50    0.014    0.000    0.030    0.001 DigitalContactTracing.py:408(enforce_policy)\n",
      "\n",
      "\n"
     ]
    },
    {
     "data": {
      "text/plain": [
       "<pstats.Stats at 0x7f5ab50740b8>"
      ]
     },
     "execution_count": 6,
     "metadata": {},
     "output_type": "execute_result"
    }
   ],
   "source": [
    "import cProfile\n",
    "dct = DCT.DigitalContactTracing(graphs = graphs,\n",
    "                                            PARAMETERS = PARAMETERS,\n",
    "                                            eps_I=eps_I,\n",
    "                                            filter_rssi=filter_rssi,\n",
    "                                            filter_duration=filter_duration)\n",
    "cProfile.run('res = dct.simulate()', 'execution_stats')\n",
    "import pstats\n",
    "from pstats import SortKey\n",
    "p = pstats.Stats('execution_stats')\n",
    "p.strip_dirs().sort_stats(SortKey.CUMULATIVE).print_stats(30)"
   ]
  },
  {
   "cell_type": "code",
   "execution_count": 23,
   "metadata": {},
   "outputs": [],
   "source": [
    "import networkx as nx\n",
    "A_duration = []\n",
    "A_rssi = []\n",
    "A_policy = []\n",
    "for graph in graphs:\n",
    "    A_duration.append(nx.adjacency_matrix(graph, weight='duration'))\n",
    "    A_rssi.append(nx.adjacency_matrix(graph, weight='rssi'))\n",
    "    A_policy.append()"
   ]
  },
  {
   "cell_type": "code",
   "execution_count": 25,
   "metadata": {},
   "outputs": [
    {
     "name": "stderr",
     "output_type": "stream",
     "text": [
      "/home/gab/anaconda3/lib/python3.7/site-packages/scipy/sparse/compressed.py:287: SparseEfficiencyWarning: Comparing a sparse matrix with a scalar greater than zero using < is inefficient, try using >= instead.\n",
      "  warn(bad_scalar_msg, SparseEfficiencyWarning)\n"
     ]
    },
    {
     "data": {
      "text/plain": [
       "<108x108 sparse matrix of type '<class 'numpy.bool_'>'\n",
       "\twith 11664 stored elements in Compressed Sparse Row format>"
      ]
     },
     "execution_count": 25,
     "metadata": {},
     "output_type": "execute_result"
    }
   ],
   "source": [
    "A[0] < 2"
   ]
  },
  {
   "cell_type": "code",
   "execution_count": null,
   "metadata": {},
   "outputs": [],
   "source": []
  }
 ],
 "metadata": {
  "kernelspec": {
   "display_name": "Python 3",
   "language": "python",
   "name": "python3"
  },
  "language_info": {
   "codemirror_mode": {
    "name": "ipython",
    "version": 3
   },
   "file_extension": ".py",
   "mimetype": "text/x-python",
   "name": "python",
   "nbconvert_exporter": "python",
   "pygments_lexer": "ipython3",
   "version": "3.7.0"
  }
 },
 "nbformat": 4,
 "nbformat_minor": 2
}
