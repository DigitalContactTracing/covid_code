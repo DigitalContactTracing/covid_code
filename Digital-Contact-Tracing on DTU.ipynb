{
 "cells": [
  {
   "cell_type": "markdown",
   "metadata": {},
   "source": [
    "# Digital-Contact-Tracing on DTU"
   ]
  },
  {
   "cell_type": "markdown",
   "metadata": {},
   "source": [
    "This notebook demonstrates the use of the simulator on the DTU dataset."
   ]
  },
  {
   "cell_type": "markdown",
   "metadata": {},
   "source": [
    "### Imports and setup"
   ]
  },
  {
   "cell_type": "code",
   "execution_count": 1,
   "metadata": {},
   "outputs": [],
   "source": [
    "import numpy as np\n",
    "import DigitalContactTracing as DCT\n",
    "from load_temporal_graph import load_df, build_graphs, get_array_of_contacts\n",
    "\n",
    "%load_ext autoreload\n",
    "%autoreload 2"
   ]
  },
  {
   "cell_type": "markdown",
   "metadata": {},
   "source": [
    "### Define the parameters of the simulation"
   ]
  },
  {
   "cell_type": "code",
   "execution_count": 2,
   "metadata": {},
   "outputs": [],
   "source": [
    "PARAMETERS = {\"temporal_gap\" : 900,                 # Temporal gap between static networks (sec)\n",
    "              \"memory_contacts\" : 7,                # Tracing memory (days)\n",
    "              \"max_time_quar\" : 10,                 # Quarantine duration (days)\n",
    "              \"policies\" : {\"policy1\":[-100,600]},  # Digital tracing policies [RSSI, duration (sec)]\n",
    "              \"eps_Is\" : [0.5,0.2],                 # Isolation effectivity\n",
    "              \"times\" : 2,                          # Number of repetition of the simulation\n",
    "              \"seed\" : 11,                          # Random seed \n",
    "              \"Y_i\" : 10,                           # Number of initially infected people\n",
    "              \"nc\" : 0.2,                           # Fraction of individuals who are not adopting the app\n",
    "              \"beta_t\": 0.002,                      # Parameter defining the infectiousness probability\n",
    "              \"symptomatics\" : 0.8,                 # Fraction of symptomatic individuals \n",
    "              \"testing\" : 0.25,                     # Fraction of asymptomatics who are detected via random testing\n",
    "              \"store\":{\"to_store\": True,            # Save the results?\n",
    "                       \"path_to_store\":\"RESULTS/\"}} # Target folder to save the results"
   ]
  },
  {
   "cell_type": "markdown",
   "metadata": {},
   "source": [
    "### Load the temporal graph"
   ]
  },
  {
   "cell_type": "code",
   "execution_count": null,
   "metadata": {},
   "outputs": [],
   "source": [
    "df = load_df(\"Dataset//bt_symmetric.csv\", n_row =100000, n_individuals=100)\n",
    "graphs = build_graphs(get_array_of_contacts(df, PARAMETERS[\"temporal_gap\"], column_name='# timestamp'), \n",
    "                      PARAMETERS[\"temporal_gap\"])"
   ]
  },
  {
   "cell_type": "markdown",
   "metadata": {},
   "source": [
    "### Run the simulations and store the results"
   ]
  },
  {
   "cell_type": "code",
   "execution_count": null,
   "metadata": {},
   "outputs": [],
   "source": [
    "# Initialize the random seed\n",
    "np.random.seed(PARAMETERS[\"seed\"])\n",
    "\n",
    "# Run over each configuration\n",
    "for eps_I in PARAMETERS[\"eps_Is\"]:\n",
    "    for policy in PARAMETERS[\"policies\"]:\n",
    "        filter_rssi = PARAMETERS[\"policies\"][policy][0]\n",
    "        filter_duration = PARAMETERS[\"policies\"][policy][1]\n",
    "        results = []\n",
    "        \n",
    "        # Print some report\n",
    "        print(\"-\" * 100)\n",
    "        print('Running simulation with policy: %s' % policy)\n",
    "        print('       |_ eps_I             : %+4.2f'   % eps_I)\n",
    "        print('       |_ filter_rssi       : %+4.2f' % filter_rssi)\n",
    "        print('       |_ filter_duration   : %+4.2f' % filter_duration)\n",
    "        print('')\n",
    "        \n",
    "        # Repeat the simulation for a fixed configuration \n",
    "        for i in range(PARAMETERS[\"times\"]):\n",
    "            # Print some report\n",
    "            print('       Running simulation     [%4d / %4d]' % (i + 1, PARAMETERS['times']))\n",
    "\n",
    "            # Initialize the simulation object\n",
    "            dct = DCT.DigitalContactTracing(graphs = graphs,\n",
    "                                            PARAMETERS = PARAMETERS,\n",
    "                                            eps_I=eps_I,\n",
    "                                            filter_rssi=filter_rssi,\n",
    "                                            filter_duration=filter_duration)\n",
    "            # Run the actual simulation\n",
    "            res = dct.simulate()\n",
    "            \n",
    "            # Save the results    \n",
    "            if PARAMETERS[\"store\"][\"to_store\"]:    \n",
    "                DCT.store_real_time(res,PARAMETERS,filter_rssi,filter_duration,eps_I)"
   ]
  },
  {
   "cell_type": "code",
   "execution_count": null,
   "metadata": {},
   "outputs": [],
   "source": []
  }
 ],
 "metadata": {
  "kernelspec": {
   "display_name": "Python 3",
   "language": "python",
   "name": "python3"
  },
  "language_info": {
   "codemirror_mode": {
    "name": "ipython",
    "version": 3
   },
   "file_extension": ".py",
   "mimetype": "text/x-python",
   "name": "python",
   "nbconvert_exporter": "python",
   "pygments_lexer": "ipython3",
   "version": "3.7.0"
  }
 },
 "nbformat": 4,
 "nbformat_minor": 2
}
