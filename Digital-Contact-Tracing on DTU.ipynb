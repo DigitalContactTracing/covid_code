{
 "cells": [
  {
   "cell_type": "markdown",
   "metadata": {},
   "source": [
    "# Digital-Contact-Tracing on DTU"
   ]
  },
  {
   "cell_type": "markdown",
   "metadata": {},
   "source": [
    "This notebook demonstrates the use of the simulator on the DTU dataset."
   ]
  },
  {
   "cell_type": "markdown",
   "metadata": {},
   "source": [
    "### Imports and setup"
   ]
  },
  {
   "cell_type": "code",
   "execution_count": null,
   "metadata": {},
   "outputs": [],
   "source": [
    "import numpy as np\n",
    "import DigitalContactTracing as DCT\n",
    "from load_temporal_graph import load_df, build_graphs, get_array_of_contacts\n",
    "from utils import get_DTU_graph\n",
    "\n",
    "%load_ext autoreload\n",
    "%autoreload 2"
   ]
  },
  {
   "cell_type": "markdown",
   "metadata": {},
   "source": [
    "### Define the parameters of the simulation"
   ]
  },
  {
   "cell_type": "code",
   "execution_count": null,
   "metadata": {},
   "outputs": [],
   "source": [
    "import simulation_parameters\n",
    "PARAMETERS = simulation_parameters.parameters_dict[1]\n",
    "PARAMETERS"
   ]
  },
  {
   "cell_type": "markdown",
   "metadata": {},
   "source": [
    "### Load the temporal graph"
   ]
  },
  {
   "cell_type": "code",
   "execution_count": null,
   "metadata": {},
   "outputs": [],
   "source": [
    "graphs = get_DTU_graph(PARAMETERS['temporal_gap']) # The first time it's computed and saved, then it's just loaded"
   ]
  },
  {
   "cell_type": "markdown",
   "metadata": {},
   "source": [
    "### Run the simulations and store the results"
   ]
  },
  {
   "cell_type": "code",
   "execution_count": null,
   "metadata": {},
   "outputs": [],
   "source": [
    "# Initialize the random seed\n",
    "np.random.seed(PARAMETERS[\"seed\"])\n",
    "\n",
    "# Run over each configuration\n",
    "for policy in PARAMETERS[\"policies\"]:\n",
    "    filter_rssi = PARAMETERS[\"policies\"][policy][0]\n",
    "    filter_duration = PARAMETERS[\"policies\"][policy][1]\n",
    "    print('Computing the policy adjacency matrix with policy: %s' % policy)\n",
    "    A_policy = DCT.policy_adjacency_matrix(graphs, filter_duration, filter_rssi)\n",
    "    \n",
    "    for eps_I in PARAMETERS[\"eps_Is\"]:\n",
    "        results = []\n",
    "        \n",
    "        # Print some report\n",
    "        print(\"-\" * 100)\n",
    "        print('Running simulation with policy: %s' % policy)\n",
    "        print('       |_ eps_I             : %+4.2f'   % eps_I)\n",
    "        print('       |_ filter_rssi       : %+4.2f' % filter_rssi)\n",
    "        print('       |_ filter_duration   : %+4.2f' % filter_duration)\n",
    "        print('')\n",
    "        \n",
    "        # Repeat the simulation for a fixed configuration \n",
    "        for i in range(PARAMETERS[\"times\"]):\n",
    "            # Print some report\n",
    "            print('       Running simulation     [%4d / %4d]' % (i + 1, PARAMETERS['times']))\n",
    "\n",
    "            # Initialize the simulation object\n",
    "            dct = DCT.DigitalContactTracing(graphs=graphs,\n",
    "                                            PARAMETERS = PARAMETERS,\n",
    "                                            eps_I=eps_I,\n",
    "                                            filter_rssi=filter_rssi,\n",
    "                                            filter_duration=filter_duration,\n",
    "                                            A_policy=A_policy)\n",
    "            # Run the actual simulation\n",
    "            res = dct.simulate()\n",
    "            \n",
    "            # Save the results    \n",
    "            if PARAMETERS[\"store\"][\"to_store\"]:    \n",
    "                DCT.store_real_time(res, PARAMETERS, filter_rssi, filter_duration, eps_I)"
   ]
  },
  {
   "cell_type": "code",
   "execution_count": null,
   "metadata": {},
   "outputs": [],
   "source": []
  }
 ],
 "metadata": {
  "kernelspec": {
   "display_name": "Python 3",
   "language": "python",
   "name": "python3"
  },
  "language_info": {
   "codemirror_mode": {
    "name": "ipython",
    "version": 3
   },
   "file_extension": ".py",
   "mimetype": "text/x-python",
   "name": "python",
   "nbconvert_exporter": "python",
   "pygments_lexer": "ipython3",
   "version": "3.8.3"
  }
 },
 "nbformat": 4,
 "nbformat_minor": 2
}
