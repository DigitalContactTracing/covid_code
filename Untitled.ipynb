{
 "cells": [
  {
   "cell_type": "code",
   "execution_count": 1,
   "metadata": {},
   "outputs": [],
   "source": [
    "import DigitalContactTracing as DCT\n",
    "from load_temporal_graph import *\n",
    "\n",
    "%load_ext autoreload\n",
    "%autoreload 2"
   ]
  },
  {
   "cell_type": "code",
   "execution_count": 32,
   "metadata": {},
   "outputs": [],
   "source": [
    "\n",
    "PARAMETERS = {\"temporal_gap\" : 900,\n",
    "              \"memory_contacts\" : 7, # days\n",
    "              \"max_time_quar\" : 10, # days\n",
    "              \"policies\" : {\"policy1\":[-100,600]},\n",
    "              \"eps_Is\" : [0.5],\n",
    "              \"times\" : 2,\n",
    "              \"seed\" : 11,\n",
    "              \"Y_i\" : 10,\n",
    "              \"nc\" : 0.2,\n",
    "              \"beta_t\": 0.002,\n",
    "              \"symptomatics\" : 0.8,   # number of symptomatic people (old notation: p)\n",
    "              \"testing\" : 0.25,\n",
    "              \"store\":{\"to_store\": True,\n",
    "                       \"path_to_store\":\"RESULTS/\"}} \n"
   ]
  },
  {
   "cell_type": "code",
   "execution_count": 3,
   "metadata": {},
   "outputs": [],
   "source": [
    "df = load_df(\"Dataset//bt_symmetric.csv\",n_row =100000)#,n_individuals=100)\n",
    "graphs = build_graphs(get_array_of_contacts(df,PARAMETERS[\"temporal_gap\"]),PARAMETERS[\"temporal_gap\"])"
   ]
  },
  {
   "cell_type": "code",
   "execution_count": 7,
   "metadata": {},
   "outputs": [
    {
     "data": {
      "text/plain": [
       "157"
      ]
     },
     "execution_count": 7,
     "metadata": {},
     "output_type": "execute_result"
    }
   ],
   "source": [
    "len(graphs)"
   ]
  },
  {
   "cell_type": "code",
   "execution_count": 120,
   "metadata": {},
   "outputs": [],
   "source": [
    "np.random.seed(PARAMETERS[\"seed\"])\n",
    "eps_I = PARAMETERS[\"eps_Is\"][0]\n",
    "filter_rssi = PARAMETERS[\"policies\"][\"policy1\"][0]\n",
    "filter_duration = PARAMETERS[\"policies\"][\"policy1\"][1]\n"
   ]
  },
  {
   "cell_type": "code",
   "execution_count": 127,
   "metadata": {},
   "outputs": [],
   "source": [
    "dct = DCT.DigitalContactTracing(graphs = graphs,\n",
    "                                PARAMETERS = PARAMETERS,\n",
    "                                eps_I=eps_I,\n",
    "                                filter_rssi=filter_rssi,\n",
    "                                filter_duration=filter_duration)"
   ]
  },
  {
   "cell_type": "code",
   "execution_count": 137,
   "metadata": {},
   "outputs": [],
   "source": [
    "c = dct.contacts\n",
    "\n",
    "dct.simulate()"
   ]
  },
  {
   "cell_type": "code",
   "execution_count": 139,
   "metadata": {},
   "outputs": [
    {
     "data": {
      "text/plain": [
       "0"
      ]
     },
     "execution_count": 139,
     "metadata": {},
     "output_type": "execute_result"
    }
   ],
   "source": [
    "dct.Qi_nb"
   ]
  },
  {
   "cell_type": "code",
   "execution_count": null,
   "metadata": {},
   "outputs": [],
   "source": []
  },
  {
   "cell_type": "code",
   "execution_count": 73,
   "metadata": {},
   "outputs": [],
   "source": [
    "class tmp:\n",
    "    def __init__(self):\n",
    "        \n",
    "        self.alt()\n",
    "        \n",
    "    def alt(self):\n",
    "        print(34)"
   ]
  },
  {
   "cell_type": "code",
   "execution_count": 74,
   "metadata": {},
   "outputs": [
    {
     "name": "stdout",
     "output_type": "stream",
     "text": [
      "34\n"
     ]
    },
    {
     "data": {
      "text/plain": [
       "<__main__.tmp at 0x7f746487da20>"
      ]
     },
     "execution_count": 74,
     "metadata": {},
     "output_type": "execute_result"
    }
   ],
   "source": [
    "tmp()"
   ]
  },
  {
   "cell_type": "code",
   "execution_count": null,
   "metadata": {},
   "outputs": [],
   "source": []
  }
 ],
 "metadata": {
  "kernelspec": {
   "display_name": "Python 3",
   "language": "python",
   "name": "python3"
  },
  "language_info": {
   "codemirror_mode": {
    "name": "ipython",
    "version": 3
   },
   "file_extension": ".py",
   "mimetype": "text/x-python",
   "name": "python",
   "nbconvert_exporter": "python",
   "pygments_lexer": "ipython3",
   "version": "3.7.3"
  }
 },
 "nbformat": 4,
 "nbformat_minor": 2
}
