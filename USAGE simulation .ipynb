{
 "cells": [
  {
   "cell_type": "code",
   "execution_count": 33,
   "metadata": {
    "scrolled": true
   },
   "outputs": [
    {
     "name": "stdout",
     "output_type": "stream",
     "text": [
      "The autoreload extension is already loaded. To reload it, use:\n",
      "  %reload_ext autoreload\n"
     ]
    }
   ],
   "source": [
    "from load_temporal_graph import *#from functions_dynamic_net_Giulia import *\n",
    "from functions_dynamic_net import *\n",
    "\n",
    "%load_ext autoreload\n",
    "%autoreload 2"
   ]
  },
  {
   "cell_type": "code",
   "execution_count": 43,
   "metadata": {},
   "outputs": [],
   "source": [
    "# Parameters\n",
    "\n",
    "PARAMETERS = {\"temporal_gap\" : 900,\n",
    "              \"memory_contacts\" : 7, # days\n",
    "              \"max_time_quar\" : 10, # days\n",
    "              \"policies\" : {\"policy1\":[-100,600]},\n",
    "              \"eps_Is\" : [0.5],\n",
    "              \"times\" : 2,\n",
    "              \"seed\" : 11,\n",
    "              \"Y_i\" : 100,\n",
    "              \"nc\" : 0.2,\n",
    "              \"beta_t\": 0.002,\n",
    "              \"symptomatics\" : 0.8,   # number of symptomatic people (old notation: p)\n",
    "              \"testing\" : 0.25,\n",
    "              \"store\":{\"to_store\": True,\n",
    "                       \"path_to_store\":\"RESULTS/\"}} "
   ]
  },
  {
   "cell_type": "code",
   "execution_count": 3,
   "metadata": {
    "scrolled": true
   },
   "outputs": [],
   "source": [
    "df = load_df(\"Dataset//bt_symmetric.csv\",n_row =1000000)#,n_individuals=100)\n",
    "graphs = build_graphs(get_array_of_contacts(df,PARAMETERS[\"temporal_gap\"]),PARAMETERS[\"temporal_gap\"])"
   ]
  },
  {
   "cell_type": "code",
   "execution_count": null,
   "metadata": {},
   "outputs": [],
   "source": []
  },
  {
   "cell_type": "code",
   "execution_count": 44,
   "metadata": {
    "scrolled": true
   },
   "outputs": [
    {
     "data": {
      "text/plain": [
       "1116"
      ]
     },
     "execution_count": 44,
     "metadata": {},
     "output_type": "execute_result"
    }
   ],
   "source": [
    "len(graphs)"
   ]
  },
  {
   "cell_type": "code",
   "execution_count": null,
   "metadata": {},
   "outputs": [],
   "source": []
  },
  {
   "cell_type": "code",
   "execution_count": 77,
   "metadata": {
    "scrolled": true
   },
   "outputs": [
    {
     "name": "stdout",
     "output_type": "stream",
     "text": [
      "----------------------------------------------------------------------------------------------------\n",
      "----------------------------------------------------------------------------------------------------\n",
      "Simulation saved in  RESULTS/\n"
     ]
    }
   ],
   "source": [
    "np.random.seed(PARAMETERS[\"seed\"])\n",
    "nodes_list = get_individuals(df)\n",
    "NC = round(PARAMETERS[\"nc\"]*len(nodes_list)) # nb of non-compliant\n",
    "\n",
    "\n",
    "for eps_I in PARAMETERS[\"eps_Is\"]:\n",
    "    for policy in PARAMETERS[\"policies\"]:\n",
    "        results = []\n",
    "        for i in range(PARAMETERS[\"times\"]):\n",
    "            print(\"-\"*100)\n",
    "\n",
    "            filter_rssi = PARAMETERS[\"policies\"][policy][0]\n",
    "            filter_duration = PARAMETERS[\"policies\"][policy][1]\n",
    "\n",
    "            # get infected at time 0\n",
    "            individuals_0 = list(graphs[0].nodes())\n",
    "            np.random.shuffle(individuals_0)\n",
    "            Y_i_nodes = individuals_0[0:PARAMETERS[\"Y_i\"]]\n",
    "\n",
    "            # get people that are using the app\n",
    "            np.random.shuffle(nodes_list)\n",
    "            NC_nodes = nodes_list[0:NC]\n",
    "\n",
    "\n",
    "            res = simulate(graphs,\n",
    "                           Y_i_nodes,\n",
    "                           NC_nodes,\n",
    "                           eps_I,\n",
    "                           PARAMETERS[\"temporal_gap\"],\n",
    "                           filter_rssi,\n",
    "                           filter_duration,\n",
    "                           PARAMETERS[\"memory_contacts\"],\n",
    "                           PARAMETERS[\"max_time_quar\"],\n",
    "                           PARAMETERS[\"beta_t\"],\n",
    "                           PARAMETERS[\"symptomatics\"],\n",
    "                           PARAMETERS[\"testing\"])\n",
    "\n",
    "            results.append(res)\n",
    "        \n",
    "        if(PARAMETERS[\"store\"][\"to_store\"]):\n",
    "            store_results(results,PARAMETERS,filter_rssi,filter_duration,eps_I)"
   ]
  },
  {
   "cell_type": "code",
   "execution_count": null,
   "metadata": {},
   "outputs": [],
   "source": []
  },
  {
   "cell_type": "code",
   "execution_count": null,
   "metadata": {},
   "outputs": [],
   "source": []
  },
  {
   "cell_type": "code",
   "execution_count": null,
   "metadata": {},
   "outputs": [],
   "source": []
  },
  {
   "cell_type": "code",
   "execution_count": null,
   "metadata": {},
   "outputs": [],
   "source": []
  },
  {
   "cell_type": "code",
   "execution_count": null,
   "metadata": {},
   "outputs": [],
   "source": []
  },
  {
   "cell_type": "code",
   "execution_count": null,
   "metadata": {},
   "outputs": [],
   "source": []
  }
 ],
 "metadata": {
  "kernelspec": {
   "display_name": "Python 3",
   "language": "python",
   "name": "python3"
  },
  "language_info": {
   "codemirror_mode": {
    "name": "ipython",
    "version": 3
   },
   "file_extension": ".py",
   "mimetype": "text/x-python",
   "name": "python",
   "nbconvert_exporter": "python",
   "pygments_lexer": "ipython3",
   "version": "3.7.3"
  }
 },
 "nbformat": 4,
 "nbformat_minor": 2
}
