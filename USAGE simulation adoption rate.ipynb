{
 "cells": [
  {
   "cell_type": "code",
   "execution_count": 33,
   "metadata": {
    "scrolled": true
   },
   "outputs": [
    {
     "name": "stdout",
     "output_type": "stream",
     "text": [
      "The autoreload extension is already loaded. To reload it, use:\n",
      "  %reload_ext autoreload\n"
     ]
    }
   ],
   "source": [
    "from load_temporal_graph import *#from functions_dynamic_net_Giulia import *\n",
    "from functions_dynamic_net import *\n",
    "\n",
    "%load_ext autoreload\n",
    "%autoreload 2"
   ]
  },
  {
   "cell_type": "code",
   "execution_count": 34,
   "metadata": {},
   "outputs": [],
   "source": [
    "# Parameters\n",
    "\n",
    "PARAMETERS = {\"temporal_gap\" : 900,\n",
    "              \"memory_contacts\" : 7, # days\n",
    "              \"max_time_quar\" : 10, # days\n",
    "              \"policies\" : {\"policy1\":[-100,600]},\n",
    "              \"eps_Is\" : [0.5],\n",
    "              \"times\" : 2,\n",
    "              \"seed\" : 11,\n",
    "              \"Y_i\" : 100,\n",
    "              \"nc\" : 0.2,\n",
    "              \"beta_t\": 0.002,\n",
    "              \"symptomatics\" : 0.8,   # number of symptomatic people (old notation: p)\n",
    "              \"testing\" : 0.25,\n",
    "              \"store\":{\"to_store\": True,\n",
    "                       \"path_to_store\":\"RESULTS/\"}} "
   ]
  },
  {
   "cell_type": "code",
   "execution_count": 3,
   "metadata": {
    "scrolled": true
   },
   "outputs": [],
   "source": [
    "df = load_df(\"Dataset//bt_symmetric.csv\",n_row =1000000)#,n_individuals=100)\n",
    "graphs = build_graphs(get_array_of_contacts(df,PARAMETERS[\"temporal_gap\"]),PARAMETERS[\"temporal_gap\"])"
   ]
  },
  {
   "cell_type": "code",
   "execution_count": null,
   "metadata": {},
   "outputs": [],
   "source": []
  },
  {
   "cell_type": "code",
   "execution_count": 35,
   "metadata": {
    "scrolled": true
   },
   "outputs": [
    {
     "data": {
      "text/plain": [
       "1116"
      ]
     },
     "execution_count": 35,
     "metadata": {},
     "output_type": "execute_result"
    }
   ],
   "source": [
    "len(graphs)"
   ]
  },
  {
   "cell_type": "code",
   "execution_count": null,
   "metadata": {},
   "outputs": [],
   "source": []
  },
  {
   "cell_type": "code",
   "execution_count": 41,
   "metadata": {
    "scrolled": true
   },
   "outputs": [
    {
     "name": "stdout",
     "output_type": "stream",
     "text": [
      "----------------------------------------------------------------------------------------------------\n"
     ]
    },
    {
     "name": "stderr",
     "output_type": "stream",
     "text": [
      "[autoreload of functions_dynamic_net failed: Traceback (most recent call last):\n",
      "  File \"/home/antonio/anaconda3/lib/python3.7/site-packages/IPython/extensions/autoreload.py\", line 244, in check\n",
      "    superreload(m, reload, self.old_objects)\n",
      "  File \"/home/antonio/anaconda3/lib/python3.7/site-packages/IPython/extensions/autoreload.py\", line 378, in superreload\n",
      "    module = reload(module)\n",
      "  File \"/home/antonio/anaconda3/lib/python3.7/imp.py\", line 314, in reload\n",
      "    return importlib.reload(module)\n",
      "  File \"/home/antonio/anaconda3/lib/python3.7/importlib/__init__.py\", line 169, in reload\n",
      "    _bootstrap._exec(spec, module)\n",
      "  File \"<frozen importlib._bootstrap>\", line 630, in _exec\n",
      "  File \"<frozen importlib._bootstrap_external>\", line 724, in exec_module\n",
      "  File \"<frozen importlib._bootstrap_external>\", line 860, in get_code\n",
      "  File \"<frozen importlib._bootstrap_external>\", line 791, in source_to_code\n",
      "  File \"<frozen importlib._bootstrap>\", line 219, in _call_with_frames_removed\n",
      "  File \"/home/antonio/Desktop/Dottorato/COVID/covid_code_private/functions_dynamic_net.py\", line 234\n",
      "    sympt,\n",
      "        ^\n",
      "SyntaxError: invalid syntax\n",
      "]\n"
     ]
    },
    {
     "ename": "KeyError",
     "evalue": "'symptomatics'",
     "output_type": "error",
     "traceback": [
      "\u001b[0;31m---------------------------------------------------------------------------\u001b[0m",
      "\u001b[0;31mKeyError\u001b[0m                                  Traceback (most recent call last)",
      "\u001b[0;32m<ipython-input-41-dc01b4e190a8>\u001b[0m in \u001b[0;36m<module>\u001b[0;34m\u001b[0m\n\u001b[1;32m     33\u001b[0m                            \u001b[0mPARAMETERS\u001b[0m\u001b[0;34m[\u001b[0m\u001b[0;34m\"max_time_quar\"\u001b[0m\u001b[0;34m]\u001b[0m\u001b[0;34m,\u001b[0m\u001b[0;34m\u001b[0m\u001b[0;34m\u001b[0m\u001b[0m\n\u001b[1;32m     34\u001b[0m                            \u001b[0mPARAMETERS\u001b[0m\u001b[0;34m[\u001b[0m\u001b[0;34m\"beta_t\"\u001b[0m\u001b[0;34m]\u001b[0m\u001b[0;34m,\u001b[0m\u001b[0;34m\u001b[0m\u001b[0;34m\u001b[0m\u001b[0m\n\u001b[0;32m---> 35\u001b[0;31m                            \u001b[0mPARAMETERS\u001b[0m\u001b[0;34m[\u001b[0m\u001b[0;34m\"symptomatics\"\u001b[0m\u001b[0;34m]\u001b[0m\u001b[0;34m,\u001b[0m\u001b[0;34m\u001b[0m\u001b[0;34m\u001b[0m\u001b[0m\n\u001b[0m\u001b[1;32m     36\u001b[0m                            PARAMETERS[\"testing\"])\n\u001b[1;32m     37\u001b[0m \u001b[0;34m\u001b[0m\u001b[0m\n",
      "\u001b[0;31mKeyError\u001b[0m: 'symptomatics'"
     ]
    }
   ],
   "source": [
    "np.random.seed(PARAMETERS[\"seed\"])\n",
    "nodes_list = get_individuals(df)\n",
    "NC = round(PARAMETERS[\"nc\"]*len(nodes_list)) # nb of non-compliant\n",
    "\n",
    "\n",
    "for eps_I in PARAMETERS[\"eps_Is\"]:\n",
    "    for policy in PARAMETERS[\"policies\"]:\n",
    "        results = []\n",
    "        for i in range(PARAMETERS[\"times\"]):\n",
    "            print(\"-\"*100)\n",
    "\n",
    "            filter_rssi = PARAMETERS[\"policies\"][policy][0]\n",
    "            filter_duration = PARAMETERS[\"policies\"][policy][1]\n",
    "\n",
    "            # get infected at time 0\n",
    "            individuals_0 = list(graphs[0].nodes())\n",
    "            np.random.shuffle(individuals_0)\n",
    "            Y_i_nodes = individuals_0[0:PARAMETERS[\"Y_i\"]]\n",
    "\n",
    "            # get people that are using the app\n",
    "            np.random.shuffle(nodes_list)\n",
    "            NC_nodes = nodes_list[0:NC]\n",
    "\n",
    "\n",
    "            res = simulate(graphs,\n",
    "                           Y_i_nodes,\n",
    "                           NC_nodes,\n",
    "                           eps_I,\n",
    "                           PARAMETERS[\"temporal_gap\"],\n",
    "                           filter_rssi,\n",
    "                           filter_duration,\n",
    "                           PARAMETERS[\"memory_contacts\"],\n",
    "                           PARAMETERS[\"max_time_quar\"],\n",
    "                           PARAMETERS[\"beta_t\"],\n",
    "                           PARAMETERS[\"symptomatics\"],\n",
    "                           PARAMETERS[\"testing\"])\n",
    "\n",
    "            results.append(res)\n",
    "        \n",
    "        if(PARAMETERS[\"store\"][\"to_store\"]):\n",
    "            store_results(res,PARAMETERS,filter_rssi,filter_duration,eps_I)"
   ]
  },
  {
   "cell_type": "code",
   "execution_count": null,
   "metadata": {},
   "outputs": [],
   "source": []
  },
  {
   "cell_type": "code",
   "execution_count": 38,
   "metadata": {},
   "outputs": [],
   "source": [
    "a = load_results(\"RESULTS/\",\"I\",0.5,-100,600)"
   ]
  },
  {
   "cell_type": "code",
   "execution_count": 39,
   "metadata": {},
   "outputs": [],
   "source": [
    "aa = load_results(\"RESULTS/\",\"act_inf\",0.5,-100,600)"
   ]
  },
  {
   "cell_type": "code",
   "execution_count": 40,
   "metadata": {},
   "outputs": [
    {
     "name": "stdout",
     "output_type": "stream",
     "text": [
      "[ True]\n"
     ]
    }
   ],
   "source": [
    "print(a == old)\n",
    "for i in range(len(aa)):\n",
    "    if not(aa[i]==old_aa[i]):\n",
    "        print(aa[i], old_aa[i])"
   ]
  },
  {
   "cell_type": "code",
   "execution_count": null,
   "metadata": {},
   "outputs": [],
   "source": []
  },
  {
   "cell_type": "code",
   "execution_count": null,
   "metadata": {},
   "outputs": [],
   "source": []
  },
  {
   "cell_type": "code",
   "execution_count": 18,
   "metadata": {},
   "outputs": [],
   "source": [
    "old = load_results(\"RESULTS/\",\"I\",0.5,-100,600)\n",
    "old_aa = load_results(\"RESULTS/\",\"act_inf\",0.5,-100,600)"
   ]
  },
  {
   "cell_type": "code",
   "execution_count": null,
   "metadata": {},
   "outputs": [],
   "source": []
  },
  {
   "cell_type": "code",
   "execution_count": null,
   "metadata": {},
   "outputs": [],
   "source": []
  },
  {
   "cell_type": "code",
   "execution_count": null,
   "metadata": {},
   "outputs": [],
   "source": []
  },
  {
   "cell_type": "code",
   "execution_count": null,
   "metadata": {},
   "outputs": [],
   "source": []
  },
  {
   "cell_type": "code",
   "execution_count": null,
   "metadata": {
    "scrolled": true
   },
   "outputs": [],
   "source": []
  },
  {
   "cell_type": "code",
   "execution_count": null,
   "metadata": {
    "scrolled": true
   },
   "outputs": [],
   "source": []
  },
  {
   "cell_type": "code",
   "execution_count": null,
   "metadata": {},
   "outputs": [],
   "source": []
  }
 ],
 "metadata": {
  "kernelspec": {
   "display_name": "Python 3",
   "language": "python",
   "name": "python3"
  },
  "language_info": {
   "codemirror_mode": {
    "name": "ipython",
    "version": 3
   },
   "file_extension": ".py",
   "mimetype": "text/x-python",
   "name": "python",
   "nbconvert_exporter": "python",
   "pygments_lexer": "ipython3",
   "version": "3.7.3"
  }
 },
 "nbformat": 4,
 "nbformat_minor": 2
}
