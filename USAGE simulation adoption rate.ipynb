{
 "cells": [
  {
   "cell_type": "code",
   "execution_count": 1,
   "metadata": {
    "scrolled": true
   },
   "outputs": [],
   "source": [
    "from load_temporal_graph import *#from functions_dynamic_net_Giulia import *\n",
    "from functions_dynamic_net import *\n",
    "\n",
    "%load_ext autoreload\n",
    "%autoreload 2"
   ]
  },
  {
   "cell_type": "code",
   "execution_count": 93,
   "metadata": {},
   "outputs": [],
   "source": [
    "# Parameters\n",
    "\n",
    "PARAMETERS = {\"temporal_gap\" : 900,\n",
    "              \"memory_contacts\" : 7, # days\n",
    "              \"max_time_quar\" : 10, # days\n",
    "              \"policies\" : {\"policy1\":[-100,600]},\n",
    "              \"eps_Is\" : [0.5],\n",
    "              \"times\" : 2,\n",
    "              \"seed\" : 11,\n",
    "              \"Y_i\" : 100,\n",
    "              \"nc\" : 0.2,\n",
    "              \"store\":{\"to_store\": True,\n",
    "                       \"path_to_store\":\"RESULTS/\"}} "
   ]
  },
  {
   "cell_type": "code",
   "execution_count": 92,
   "metadata": {
    "scrolled": true
   },
   "outputs": [],
   "source": [
    "df = load_df(\"Dataset//bt_symmetric.csv\",n_row =1000000)#,n_individuals=100)\n",
    "graphs = build_graphs(get_array_of_contacts(df,PARAMETERS[\"temporal_gap\"]),PARAMETERS[\"temporal_gap\"])"
   ]
  },
  {
   "cell_type": "code",
   "execution_count": null,
   "metadata": {},
   "outputs": [],
   "source": []
  },
  {
   "cell_type": "code",
   "execution_count": 94,
   "metadata": {
    "scrolled": true
   },
   "outputs": [
    {
     "data": {
      "text/plain": [
       "1116"
      ]
     },
     "execution_count": 94,
     "metadata": {},
     "output_type": "execute_result"
    }
   ],
   "source": [
    "len(graphs)"
   ]
  },
  {
   "cell_type": "code",
   "execution_count": null,
   "metadata": {},
   "outputs": [],
   "source": []
  },
  {
   "cell_type": "code",
   "execution_count": 121,
   "metadata": {
    "scrolled": true
   },
   "outputs": [
    {
     "name": "stdout",
     "output_type": "stream",
     "text": [
      "----------------------------------------------------------------------------------------------------\n",
      "----------------------------------------------------------------------------------------------------\n",
      "----------------------------------------------------------------------------------------------------\n",
      "----------------------------------------------------------------------------------------------------\n",
      "----------------------------------------------------------------------------------------------------\n",
      "----------------------------------------------------------------------------------------------------\n",
      "----------------------------------------------------------------------------------------------------\n",
      "----------------------------------------------------------------------------------------------------\n",
      "----------------------------------------------------------------------------------------------------\n",
      "----------------------------------------------------------------------------------------------------\n",
      "Simulation saved in  RESULTS/\n"
     ]
    }
   ],
   "source": [
    "np.random.seed(PARAMETERS[\"seed\"])\n",
    "nodes_list = get_individuals(df)\n",
    "NC = round(PARAMETERS[\"nc\"]*len(nodes_list)) # nb of non-compliant\n",
    "\n",
    "\n",
    "for eps_I in PARAMETERS[\"eps_Is\"]:\n",
    "    for policy in PARAMETERS[\"policies\"]:\n",
    "        results = []\n",
    "        for i in range(PARAMETERS[\"times\"]):\n",
    "            print(\"-\"*100)\n",
    "\n",
    "            filter_rssi = PARAMETERS[\"policies\"][policy][0]\n",
    "            filter_duration = PARAMETERS[\"policies\"][policy][1]\n",
    "\n",
    "            # get infected at time 0\n",
    "            individuals_0 = list(graphs[0].nodes())\n",
    "            np.random.shuffle(individuals_0)\n",
    "            Y_i_nodes = individuals_0[0:PARAMETERS[\"Y_i\"]]\n",
    "\n",
    "            # get people that are using the app\n",
    "            np.random.shuffle(nodes_list)\n",
    "            NC_nodes = nodes_list[0:NC]\n",
    "\n",
    "\n",
    "            res = simulate(graphs,\n",
    "                           Y_i_nodes,\n",
    "                           NC_nodes,\n",
    "                           eps_I,\n",
    "                           PARAMETERS[\"temporal_gap\"],\n",
    "                           filter_rssi,\n",
    "                           filter_duration,\n",
    "                           PARAMETERS[\"memory_contacts\"],\n",
    "                           PARAMETERS[\"max_time_quar\"])\n",
    "\n",
    "            results.append(res)\n",
    "        \n",
    "        if(PARAMETERS[\"store\"][\"to_store\"]):\n",
    "            store_results(res,PARAMETERS,filter_rssi,filter_duration,eps_I)"
   ]
  },
  {
   "cell_type": "code",
   "execution_count": null,
   "metadata": {},
   "outputs": [],
   "source": []
  },
  {
   "cell_type": "code",
   "execution_count": 122,
   "metadata": {},
   "outputs": [],
   "source": [
    "a = load_results(\"RESULTS/\",\"I\",0.5,-100,600)"
   ]
  },
  {
   "cell_type": "code",
   "execution_count": null,
   "metadata": {},
   "outputs": [],
   "source": []
  },
  {
   "cell_type": "code",
   "execution_count": 123,
   "metadata": {},
   "outputs": [
    {
     "data": {
      "text/plain": [
       "array([ True])"
      ]
     },
     "execution_count": 123,
     "metadata": {},
     "output_type": "execute_result"
    }
   ],
   "source": [
    "a == old"
   ]
  },
  {
   "cell_type": "code",
   "execution_count": null,
   "metadata": {},
   "outputs": [],
   "source": []
  },
  {
   "cell_type": "code",
   "execution_count": null,
   "metadata": {},
   "outputs": [],
   "source": []
  },
  {
   "cell_type": "code",
   "execution_count": 113,
   "metadata": {},
   "outputs": [],
   "source": [
    "old = load_results(\"RESULTS/\",\"I\",0.5,-100,600)"
   ]
  },
  {
   "cell_type": "code",
   "execution_count": null,
   "metadata": {},
   "outputs": [],
   "source": []
  },
  {
   "cell_type": "code",
   "execution_count": null,
   "metadata": {},
   "outputs": [],
   "source": []
  },
  {
   "cell_type": "code",
   "execution_count": null,
   "metadata": {},
   "outputs": [],
   "source": []
  },
  {
   "cell_type": "code",
   "execution_count": null,
   "metadata": {},
   "outputs": [],
   "source": []
  },
  {
   "cell_type": "code",
   "execution_count": null,
   "metadata": {
    "scrolled": true
   },
   "outputs": [],
   "source": []
  },
  {
   "cell_type": "code",
   "execution_count": null,
   "metadata": {
    "scrolled": true
   },
   "outputs": [],
   "source": []
  },
  {
   "cell_type": "code",
   "execution_count": null,
   "metadata": {},
   "outputs": [],
   "source": []
  }
 ],
 "metadata": {
  "kernelspec": {
   "display_name": "Python 3",
   "language": "python",
   "name": "python3"
  },
  "language_info": {
   "codemirror_mode": {
    "name": "ipython",
    "version": 3
   },
   "file_extension": ".py",
   "mimetype": "text/x-python",
   "name": "python",
   "nbconvert_exporter": "python",
   "pygments_lexer": "ipython3",
   "version": "3.7.3"
  }
 },
 "nbformat": 4,
 "nbformat_minor": 2
}
