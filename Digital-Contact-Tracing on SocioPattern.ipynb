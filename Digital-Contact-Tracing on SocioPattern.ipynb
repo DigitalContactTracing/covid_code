{
 "cells": [
  {
   "cell_type": "markdown",
   "metadata": {},
   "source": [
    "# Digital-Contact-Tracing on SocioPattern"
   ]
  },
  {
   "cell_type": "markdown",
   "metadata": {},
   "source": [
    "This notebook demonstrates the use of the simulator on a SocioPattern dataset."
   ]
  },
  {
   "cell_type": "code",
   "execution_count": 1,
   "metadata": {},
   "outputs": [],
   "source": [
    "import numpy as np\n",
    "import DigitalContactTracing as DCT\n",
    "from load_temporal_graph import load_df_socio, build_graphs_socio, get_array_of_contacts\n",
    "\n",
    "%load_ext autoreload\n",
    "%autoreload 2"
   ]
  },
  {
   "cell_type": "markdown",
   "metadata": {},
   "source": [
    "### Imports and setup"
   ]
  },
  {
   "cell_type": "code",
   "execution_count": 2,
   "metadata": {},
   "outputs": [],
   "source": [
    "PARAMETERS = {\"temporal_gap\" : 900,                 # Temporal gap between static networks (sec)\n",
    "              \"memory_contacts\" : 7,                # Tracing memory (days)\n",
    "              \"max_time_quar\" : 10,                 # Quarantine duration (days)\n",
    "              \"policies\" : {\"policy1\":[600]},       # Digital tracing policies [RSSI, duration (sec)]\n",
    "              \"eps_Is\" : [0.5,0.2],                 # Isolation effectivity\n",
    "              \"times\" : 2,                          # Number of repetition of the simulation\n",
    "              \"seed\" : None,                        # Random seed\n",
    "              \"Y_i\" : 10,                           # Number of initially infected people\n",
    "              \"nc\" : 0.2,                           # Fraction of individuals who are not adopting the app\n",
    "              \"beta_t\": 0.002,                      # Parameter defining the infectiousness probability\n",
    "              \"symptomatics\" : 0.8,                 # Fraction of symptomatic individuals \n",
    "              \"testing\" : 0.25,                     # Fraction of asymptomatics who are detected via random testing\n",
    "              \"store\":\n",
    "                {\"to_store\": True,                  # Save the results?\n",
    "                \"path_to_store\":\"RESULTS_Socio/\"}}  # Target folder to save the results"
   ]
  },
  {
   "cell_type": "markdown",
   "metadata": {},
   "source": [
    "### Define the parameters of the simulation"
   ]
  },
  {
   "cell_type": "code",
   "execution_count": 3,
   "metadata": {},
   "outputs": [],
   "source": [
    "df = load_df_socio(\"Dataset/High-School.csv\")\n",
    "graphs = build_graphs_socio(get_array_of_contacts(df, PARAMETERS[\"temporal_gap\"], column_name='time'),\n",
    "                            PARAMETERS[\"temporal_gap\"])"
   ]
  },
  {
   "cell_type": "markdown",
   "metadata": {},
   "source": [
    "### Load the temporal graph"
   ]
  },
  {
   "cell_type": "code",
   "execution_count": 15,
   "metadata": {},
   "outputs": [
    {
     "name": "stdout",
     "output_type": "stream",
     "text": [
      "----------------------------------------------------------------------------------------------------\n",
      "Running simulation with policy: policy1\n",
      "       |_ eps_I               :  +00\n",
      "       |_ filter_duration     : +600\n",
      "\n",
      "       Running simulation     [   1 /    2]\n",
      "       Running simulation     [   2 /    2]\n",
      "----------------------------------------------------------------------------------------------------\n",
      "Running simulation with policy: policy1\n",
      "       |_ eps_I               :  +00\n",
      "       |_ filter_duration     : +600\n",
      "\n",
      "       Running simulation     [   1 /    2]\n",
      "       Running simulation     [   2 /    2]\n"
     ]
    }
   ],
   "source": [
    "# Initialize the random seed\n",
    "np.random.seed(PARAMETERS[\"seed\"])\n",
    "\n",
    "# Run over each configuration\n",
    "for eps_I in PARAMETERS[\"eps_Is\"]:\n",
    "    for policy in PARAMETERS[\"policies\"]:\n",
    "        filter_duration = PARAMETERS[\"policies\"][policy][0]\n",
    "        filter_rssi=None\n",
    "        results = []\n",
    "        \n",
    "        # Print some report\n",
    "        print(\"-\" * 100)\n",
    "        print('Running simulation with policy: %s' % policy)\n",
    "        print('       |_ eps_I               : %+4.2d'   % eps_I)\n",
    "        print('       |_ filter_duration     : %+4.2d' % filter_duration)\n",
    "        print('')\n",
    "        \n",
    "        # Repeat the simulation for a fixed configuration \n",
    "        for i in range(PARAMETERS[\"times\"]):\n",
    "            # Print some report\n",
    "            print('       Running simulation     [%4d / %4d]' % (i + 1, PARAMETERS['times']))\n",
    "\n",
    "            # Initialize the simulation object\n",
    "            dct = DCT.DigitalContactTracing(graphs = graphs,\n",
    "                                            PARAMETERS = PARAMETERS,\n",
    "                                            eps_I=eps_I,\n",
    "                                            filter_rssi=filter_rssi,\n",
    "                                            filter_duration=filter_duration,\n",
    "                                            use_rssi=False)\n",
    "            # Run the actual simulation\n",
    "            res = dct.simulate()\n",
    "            \n",
    "            # Save the results    \n",
    "            DCT.store_real_time(res,PARAMETERS,filter_rssi,filter_duration,eps_I)        "
   ]
  },
  {
   "cell_type": "code",
   "execution_count": 32,
   "metadata": {},
   "outputs": [
    {
     "name": "stdout",
     "output_type": "stream",
     "text": [
      "Wed Jul  8 14:01:37 2020    execution_stats\n",
      "\n",
      "         3688829 function calls in 15.463 seconds\n",
      "\n",
      "   Ordered by: cumulative time\n",
      "   List reduced from 33 to 20 due to restriction <20>\n",
      "\n",
      "   ncalls  tottime  percall  cumtime  percall filename:lineno(function)\n",
      "        1    0.000    0.000   15.463   15.463 {built-in method builtins.exec}\n",
      "        1    0.000    0.000   15.463   15.463 <string>:1(<module>)\n",
      "        1    0.111    0.111   15.462   15.462 DigitalContactTracing.py:232(simulate)\n",
      "     1615   11.481    0.007   14.323    0.009 DigitalContactTracing.py:517(update_contacts)\n",
      "   528105    1.071    0.000    2.230    0.000 DigitalContactTracing.py:370(policy)\n",
      "        2    0.000    0.000    0.664    0.332 <__array_function__ internals>:2(unique)\n",
      "        2    0.000    0.000    0.664    0.332 {built-in method numpy.core._multiarray_umath.implement_array_function}\n",
      "        2    0.001    0.000    0.664    0.332 arraysetops.py:151(unique)\n",
      "   185388    0.226    0.000    0.646    0.000 graph.py:451(__getitem__)\n",
      "   823313    0.529    0.000    0.529    0.000 {method 'append' of 'list' objects}\n",
      "        4    0.000    0.000    0.378    0.095 _asarray.py:88(asanyarray)\n",
      "        4    0.378    0.095    0.378    0.095 {built-in method numpy.array}\n",
      "        2    0.021    0.011    0.285    0.142 arraysetops.py:297(_unique1d)\n",
      "   528105    0.283    0.000    0.283    0.000 graph.py:416(__contains__)\n",
      "        2    0.251    0.125    0.251    0.125 {method 'sort' of 'numpy.ndarray' objects}\n",
      "   185388    0.170    0.000    0.229    0.000 graph.py:349(adj)\n",
      "     1615    0.194    0.000    0.194    0.000 DigitalContactTracing.py:543(update_quarantined)\n",
      "   185388    0.147    0.000    0.191    0.000 coreviews.py:80(__getitem__)\n",
      "   534569    0.149    0.000    0.149    0.000 {built-in method builtins.len}\n",
      "    73922    0.076    0.000    0.112    0.000 graph.py:1198(neighbors)\n",
      "\n",
      "\n"
     ]
    },
    {
     "data": {
      "text/plain": [
       "<pstats.Stats at 0x7f512eb04588>"
      ]
     },
     "execution_count": 32,
     "metadata": {},
     "output_type": "execute_result"
    }
   ],
   "source": [
    "import cProfile\n",
    "import re\n",
    "cProfile.run('res = dct.simulate()', 'execution_stats')\n",
    "import pstats\n",
    "from pstats import SortKey\n",
    "p = pstats.Stats('execution_stats')\n",
    "p.strip_dirs().sort_stats(SortKey.CUMULATIVE).print_stats(20)"
   ]
  },
  {
   "cell_type": "code",
   "execution_count": 38,
   "metadata": {},
   "outputs": [],
   "source": [
    "l = [1, 2, 3]"
   ]
  },
  {
   "cell_type": "code",
   "execution_count": 39,
   "metadata": {},
   "outputs": [
    {
     "data": {
      "text/plain": [
       "1"
      ]
     },
     "execution_count": 39,
     "metadata": {},
     "output_type": "execute_result"
    }
   ],
   "source": [
    "l.pop(-len(l))"
   ]
  },
  {
   "cell_type": "code",
   "execution_count": 40,
   "metadata": {},
   "outputs": [
    {
     "data": {
      "text/plain": [
       "[2, 3]"
      ]
     },
     "execution_count": 40,
     "metadata": {},
     "output_type": "execute_result"
    }
   ],
   "source": [
    "l"
   ]
  },
  {
   "cell_type": "code",
   "execution_count": null,
   "metadata": {},
   "outputs": [],
   "source": []
  }
 ],
 "metadata": {
  "kernelspec": {
   "display_name": "Python 3",
   "language": "python",
   "name": "python3"
  },
  "language_info": {
   "codemirror_mode": {
    "name": "ipython",
    "version": 3
   },
   "file_extension": ".py",
   "mimetype": "text/x-python",
   "name": "python",
   "nbconvert_exporter": "python",
   "pygments_lexer": "ipython3",
   "version": "3.7.0"
  }
 },
 "nbformat": 4,
 "nbformat_minor": 2
}
