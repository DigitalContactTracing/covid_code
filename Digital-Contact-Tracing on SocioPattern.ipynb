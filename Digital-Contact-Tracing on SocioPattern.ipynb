{
 "cells": [
  {
   "cell_type": "markdown",
   "metadata": {},
   "source": [
    "# Digital-Contact-Tracing on SocioPattern"
   ]
  },
  {
   "cell_type": "markdown",
   "metadata": {},
   "source": [
    "This notebook demonstrates the use of the simulator on a SocioPattern dataset."
   ]
  },
  {
   "cell_type": "code",
   "execution_count": 1,
   "metadata": {},
   "outputs": [],
   "source": [
    "import numpy as np\n",
    "import DigitalContactTracing as DCT\n",
    "from load_temporal_graph_tmp import load_df_socio, build_graphs_socio, get_array_of_contacts\n",
    "\n",
    "%load_ext autoreload\n",
    "%autoreload 2"
   ]
  },
  {
   "cell_type": "markdown",
   "metadata": {},
   "source": [
    "### Imports and setup"
   ]
  },
  {
   "cell_type": "code",
   "execution_count": 2,
   "metadata": {},
   "outputs": [],
   "source": [
    "PARAMETERS = {\"temporal_gap\" : 300,                 # Temporal gap between static networks (sec)\n",
    "              \"memory_contacts\" : 7,                # Tracing memory (days)\n",
    "              \"max_time_quar\" : 10,                 # Quarantine duration (days)\n",
    "              \"policies\" :                          # Digital tracing policies [duration (sec)]\n",
    "              {'policy1': [30*60],\n",
    "               'policy2': [20*60],\n",
    "               'policy3': [15*60],\n",
    "               'policy4': [10*60],\n",
    "               'policy5': [5*60]},  \n",
    "              \"eps_Is\" : [0.2, 0.5, 0.8, 1],        # Isolation effectivity\n",
    "              \"times\" : 10,                         # Number of repetition of the simulation\n",
    "              \"seed\" : 11,                          # Random seed \n",
    "              \"Y_i\" : 1,                            # Number of initially infected people\n",
    "              \"nc\" : 0.2,                           # Fraction of individuals who are not adopting the app\n",
    "              \"beta_t\": 0.002,                      # Parameter defining the infectiousness probability\n",
    "              \"symptomatics\" : 0.8,                 # Fraction of symptomatic individuals \n",
    "              \"testing\" : 0.0,                      # Fraction of asymptomatics who are detected via random testing\n",
    "              \"store\":{\"to_store\": True,            # Save the results?\n",
    "                       \"path_to_store\":\"RESULTS_Socio/\"}} # Target folder to save the results"
   ]
  },
  {
   "cell_type": "markdown",
   "metadata": {},
   "source": [
    "### Define the parameters of the simulation"
   ]
  },
  {
   "cell_type": "code",
   "execution_count": 3,
   "metadata": {},
   "outputs": [],
   "source": [
    "df = load_df_socio(\"Dataset/High-School.csv\")\n",
    "graphs = build_graphs_socio(get_array_of_contacts(df, PARAMETERS[\"temporal_gap\"], column_name='time'),\n",
    "                            PARAMETERS[\"temporal_gap\"])"
   ]
  },
  {
   "cell_type": "markdown",
   "metadata": {},
   "source": [
    "### Load the temporal graph"
   ]
  },
  {
   "cell_type": "code",
   "execution_count": 4,
   "metadata": {},
   "outputs": [
    {
     "name": "stdout",
     "output_type": "stream",
     "text": [
      "----------------------------------------------------------------------------------------------------\n",
      "Running simulation with policy: policy1\n",
      "       |_ eps_I               :  +00\n",
      "       |_ filter_duration     : +1800\n",
      "\n",
      "       Running simulation     [   1 /   10]\n",
      "       Running simulation     [   2 /   10]\n",
      "       Running simulation     [   3 /   10]\n",
      "       Running simulation     [   4 /   10]\n",
      "       Running simulation     [   5 /   10]\n"
     ]
    },
    {
     "ename": "KeyboardInterrupt",
     "evalue": "",
     "output_type": "error",
     "traceback": [
      "\u001b[0;31m---------------------------------------------------------------------------\u001b[0m",
      "\u001b[0;31mKeyboardInterrupt\u001b[0m                         Traceback (most recent call last)",
      "\u001b[0;32m<ipython-input-4-3ddcc9930c53>\u001b[0m in \u001b[0;36m<module>\u001b[0;34m\u001b[0m\n\u001b[1;32m     32\u001b[0m \u001b[0;34m\u001b[0m\u001b[0m\n\u001b[1;32m     33\u001b[0m             \u001b[0;31m# Save the results\u001b[0m\u001b[0;34m\u001b[0m\u001b[0;34m\u001b[0m\u001b[0m\n\u001b[0;32m---> 34\u001b[0;31m             \u001b[0mDCT\u001b[0m\u001b[0;34m.\u001b[0m\u001b[0mstore_real_time\u001b[0m\u001b[0;34m(\u001b[0m\u001b[0mres\u001b[0m\u001b[0;34m,\u001b[0m\u001b[0mPARAMETERS\u001b[0m\u001b[0;34m,\u001b[0m\u001b[0mfilter_rssi\u001b[0m\u001b[0;34m,\u001b[0m\u001b[0mfilter_duration\u001b[0m\u001b[0;34m,\u001b[0m\u001b[0meps_I\u001b[0m\u001b[0;34m)\u001b[0m\u001b[0;34m\u001b[0m\u001b[0m\n\u001b[0m",
      "\u001b[0;32m~/Desktop/Lavori_in_Corso/COVID_code/covid_code_private/DigitalContactTracing.py\u001b[0m in \u001b[0;36mstore_real_time\u001b[0;34m(res, PARAMETERS, filter_rssi, filter_duration, eps_I)\u001b[0m\n\u001b[1;32m    609\u001b[0m \u001b[0;34m\u001b[0m\u001b[0m\n\u001b[1;32m    610\u001b[0m     \u001b[0mwriting_operation\u001b[0m \u001b[0;34m=\u001b[0m \u001b[0;34m\"a+\"\u001b[0m\u001b[0;34m\u001b[0m\u001b[0m\n\u001b[0;32m--> 611\u001b[0;31m     \u001b[0msave_on_csv\u001b[0m\u001b[0;34m(\u001b[0m\u001b[0mpath\u001b[0m\u001b[0;34m+\u001b[0m\u001b[0;34m\"eT_\"\u001b[0m\u001b[0;34m+\u001b[0m\u001b[0mname\u001b[0m\u001b[0;34m+\u001b[0m\u001b[0;34m\".csv\"\u001b[0m\u001b[0;34m,\u001b[0m\u001b[0mresults\u001b[0m\u001b[0;34m[\u001b[0m\u001b[0;36m0\u001b[0m\u001b[0;34m]\u001b[0m\u001b[0;34m,\u001b[0m\u001b[0mwriting_operation\u001b[0m\u001b[0;34m)\u001b[0m\u001b[0;34m\u001b[0m\u001b[0m\n\u001b[0m\u001b[1;32m    612\u001b[0m     \u001b[0msave_on_csv\u001b[0m\u001b[0;34m(\u001b[0m\u001b[0mpath\u001b[0m\u001b[0;34m+\u001b[0m\u001b[0;34m\"sym_\"\u001b[0m\u001b[0;34m+\u001b[0m\u001b[0mname\u001b[0m\u001b[0;34m+\u001b[0m\u001b[0;34m\".csv\"\u001b[0m\u001b[0;34m,\u001b[0m\u001b[0mresults\u001b[0m\u001b[0;34m[\u001b[0m\u001b[0;36m1\u001b[0m\u001b[0;34m]\u001b[0m\u001b[0;34m,\u001b[0m\u001b[0mwriting_operation\u001b[0m\u001b[0;34m)\u001b[0m\u001b[0;34m\u001b[0m\u001b[0m\n\u001b[1;32m    613\u001b[0m     \u001b[0msave_on_csv\u001b[0m\u001b[0;34m(\u001b[0m\u001b[0mpath\u001b[0m\u001b[0;34m+\u001b[0m\u001b[0;34m\"iso_\"\u001b[0m\u001b[0;34m+\u001b[0m\u001b[0mname\u001b[0m\u001b[0;34m+\u001b[0m\u001b[0;34m\".csv\"\u001b[0m\u001b[0;34m,\u001b[0m\u001b[0mresults\u001b[0m\u001b[0;34m[\u001b[0m\u001b[0;36m2\u001b[0m\u001b[0;34m]\u001b[0m\u001b[0;34m,\u001b[0m\u001b[0mwriting_operation\u001b[0m\u001b[0;34m)\u001b[0m\u001b[0;34m\u001b[0m\u001b[0m\n",
      "\u001b[0;32m~/Desktop/Lavori_in_Corso/COVID_code/covid_code_private/DigitalContactTracing.py\u001b[0m in \u001b[0;36msave_on_csv\u001b[0;34m(filename, variable_list, writing_operation)\u001b[0m\n\u001b[1;32m    591\u001b[0m \u001b[0;34m\u001b[0m\u001b[0m\n\u001b[1;32m    592\u001b[0m     \u001b[0;32mdef\u001b[0m \u001b[0msave_on_csv\u001b[0m\u001b[0;34m(\u001b[0m\u001b[0mfilename\u001b[0m\u001b[0;34m,\u001b[0m\u001b[0mvariable_list\u001b[0m\u001b[0;34m,\u001b[0m\u001b[0mwriting_operation\u001b[0m\u001b[0;34m)\u001b[0m\u001b[0;34m:\u001b[0m\u001b[0;34m\u001b[0m\u001b[0m\n\u001b[0;32m--> 593\u001b[0;31m         \u001b[0;32mwith\u001b[0m \u001b[0mopen\u001b[0m\u001b[0;34m(\u001b[0m\u001b[0mfilename\u001b[0m\u001b[0;34m,\u001b[0m \u001b[0mwriting_operation\u001b[0m\u001b[0;34m)\u001b[0m \u001b[0;32mas\u001b[0m \u001b[0mcsvfile\u001b[0m\u001b[0;34m:\u001b[0m\u001b[0;34m\u001b[0m\u001b[0m\n\u001b[0m\u001b[1;32m    594\u001b[0m             \u001b[0mwriter\u001b[0m \u001b[0;34m=\u001b[0m \u001b[0mcsv\u001b[0m\u001b[0;34m.\u001b[0m\u001b[0mwriter\u001b[0m\u001b[0;34m(\u001b[0m\u001b[0mcsvfile\u001b[0m\u001b[0;34m)\u001b[0m\u001b[0;34m\u001b[0m\u001b[0m\n\u001b[1;32m    595\u001b[0m             \u001b[0;32mtry\u001b[0m\u001b[0;34m:\u001b[0m\u001b[0;34m\u001b[0m\u001b[0m\n",
      "\u001b[0;31mKeyboardInterrupt\u001b[0m: "
     ]
    }
   ],
   "source": [
    "# Initialize the random seed\n",
    "np.random.seed(PARAMETERS[\"seed\"])\n",
    "\n",
    "# Run over each configuration\n",
    "for eps_I in PARAMETERS[\"eps_Is\"]:\n",
    "    for policy in PARAMETERS[\"policies\"]:\n",
    "        filter_duration = PARAMETERS[\"policies\"][policy][0]\n",
    "        filter_rssi=None\n",
    "        results = []\n",
    "        \n",
    "        # Print some report\n",
    "        print(\"-\" * 100)\n",
    "        print('Running simulation with policy: %s' % policy)\n",
    "        print('       |_ eps_I               : %+4.2d'   % eps_I)\n",
    "        print('       |_ filter_duration     : %+4.2d' % filter_duration)\n",
    "        print('')\n",
    "        \n",
    "        # Repeat the simulation for a fixed configuration \n",
    "        for i in range(PARAMETERS[\"times\"]):\n",
    "            # Print some report\n",
    "            print('       Running simulation     [%4d / %4d]' % (i + 1, PARAMETERS['times']))\n",
    "\n",
    "            # Initialize the simulation object\n",
    "            dct = DCT.DigitalContactTracing(graphs = graphs,\n",
    "                                            PARAMETERS = PARAMETERS,\n",
    "                                            eps_I=eps_I,\n",
    "                                            filter_rssi=filter_rssi,\n",
    "                                            filter_duration=filter_duration,\n",
    "                                            use_rssi=False)\n",
    "            # Run the actual simulation\n",
    "            res = dct.simulate()\n",
    "            \n",
    "            # Save the results    \n",
    "            DCT.store_real_time(res,PARAMETERS,filter_rssi,filter_duration,eps_I)        "
   ]
  },
  {
   "cell_type": "code",
   "execution_count": null,
   "metadata": {},
   "outputs": [],
   "source": []
  }
 ],
 "metadata": {
  "kernelspec": {
   "display_name": "Python 3",
   "language": "python",
   "name": "python3"
  },
  "language_info": {
   "codemirror_mode": {
    "name": "ipython",
    "version": 3
   },
   "file_extension": ".py",
   "mimetype": "text/x-python",
   "name": "python",
   "nbconvert_exporter": "python",
   "pygments_lexer": "ipython3",
   "version": "3.7.0"
  }
 },
 "nbformat": 4,
 "nbformat_minor": 2
}
