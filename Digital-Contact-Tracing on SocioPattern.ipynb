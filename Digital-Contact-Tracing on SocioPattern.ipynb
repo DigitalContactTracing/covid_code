{
 "cells": [
  {
   "cell_type": "markdown",
   "metadata": {},
   "source": [
    "# Digital-Contact-Tracing on SocioPattern"
   ]
  },
  {
   "cell_type": "markdown",
   "metadata": {},
   "source": [
    "This notebook demonstrates the use of the simulator on a SocioPattern dataset."
   ]
  },
  {
   "cell_type": "code",
   "execution_count": 5,
   "metadata": {},
   "outputs": [
    {
     "name": "stdout",
     "output_type": "stream",
     "text": [
      "The autoreload extension is already loaded. To reload it, use:\n",
      "  %reload_ext autoreload\n"
     ]
    }
   ],
   "source": [
    "import numpy as np\n",
    "import DigitalContactTracing as DCT\n",
    "from load_temporal_graph import load_df_socio, build_graphs_socio, get_array_of_contacts\n",
    "\n",
    "%load_ext autoreload\n",
    "%autoreload 2"
   ]
  },
  {
   "cell_type": "markdown",
   "metadata": {},
   "source": [
    "### Imports and setup"
   ]
  },
  {
   "cell_type": "code",
   "execution_count": 2,
   "metadata": {},
   "outputs": [],
   "source": [
    "PARAMETERS = {\"temporal_gap\" : 300,                 # Temporal gap between static networks (sec)\n",
    "              \"memory_contacts\" : 7,                # Tracing memory (days)\n",
    "              \"max_time_quar\" : 10,                 # Quarantine duration (days)\n",
    "              \"policies\" :                          # Digital tracing policies [duration (sec)]\n",
    "              {'policy1': [30*60],\n",
    "               'policy2': [20*60],\n",
    "               'policy3': [15*60],\n",
    "               'policy4': [10*60],\n",
    "               'policy5': [5*60]},  \n",
    "              \"eps_Is\" : [0.2, 0.5, 0.8, 1],        # Isolation effectivity\n",
    "              \"times\" : 10,                         # Number of repetition of the simulation\n",
    "              \"seed\" : 11,                          # Random seed \n",
    "              \"Y_i\" : 1,                            # Number of initially infected people\n",
    "              \"nc\" : 0.2,                           # Fraction of individuals who are not adopting the app\n",
    "              \"beta_t\": 0.002,                      # Parameter defining the infectiousness probability\n",
    "              \"symptomatics\" : 0.8,                 # Fraction of symptomatic individuals \n",
    "              \"testing\" : 0.0,                      # Fraction of asymptomatics who are detected via random testing\n",
    "              \"store\":{\"to_store\": True,            # Save the results?\n",
    "                       \"path_to_store\":\"RESULTS_Socio/\"}} # Target folder to save the results"
   ]
  },
  {
   "cell_type": "markdown",
   "metadata": {},
   "source": [
    "### Define the parameters of the simulation"
   ]
  },
  {
   "cell_type": "code",
   "execution_count": 3,
   "metadata": {},
   "outputs": [],
   "source": [
    "df = load_df_socio(\"Dataset/High-School.csv\")\n",
    "graphs = build_graphs_socio(get_array_of_contacts(df, PARAMETERS[\"temporal_gap\"], column_name='time'),\n",
    "                            PARAMETERS[\"temporal_gap\"])"
   ]
  },
  {
   "cell_type": "markdown",
   "metadata": {},
   "source": [
    "### Load the temporal graph"
   ]
  },
  {
   "cell_type": "code",
   "execution_count": 7,
   "metadata": {},
   "outputs": [
    {
     "name": "stdout",
     "output_type": "stream",
     "text": [
      "----------------------------------------------------------------------------------------------------\n",
      "Running simulation with policy: policy1\n",
      "       |_ eps_I               :  +00\n",
      "       |_ filter_duration     : +1800\n",
      "\n",
      "       Running simulation     [   1 /   10]\n",
      "<class 'str'>\n",
      "[<class 'numpy.str_'>, <class 'numpy.str_'>, <class 'numpy.str_'>, <class 'numpy.str_'>, <class 'numpy.str_'>]\n",
      "<class 'str'>\n",
      "[<class 'numpy.str_'>, <class 'numpy.str_'>, <class 'numpy.str_'>, <class 'numpy.str_'>, <class 'numpy.str_'>]\n",
      "<class 'str'>\n",
      "[<class 'numpy.str_'>, <class 'numpy.str_'>, <class 'numpy.str_'>, <class 'numpy.str_'>, <class 'numpy.str_'>]\n",
      "<class 'str'>\n",
      "[<class 'numpy.str_'>, <class 'numpy.str_'>, <class 'numpy.str_'>, <class 'numpy.str_'>]\n",
      "       Running simulation     [   2 /   10]\n",
      "<class 'str'>\n",
      "[<class 'numpy.str_'>, <class 'numpy.str_'>]\n",
      "<class 'str'>\n",
      "[<class 'numpy.str_'>, <class 'numpy.str_'>]\n",
      "<class 'str'>\n",
      "[<class 'numpy.str_'>, <class 'numpy.str_'>]\n",
      "<class 'str'>\n",
      "[]\n",
      "<class 'str'>\n",
      "[]\n",
      "<class 'str'>\n",
      "[]\n",
      "<class 'str'>\n",
      "[<class 'numpy.str_'>, <class 'numpy.str_'>, <class 'numpy.str_'>]\n",
      "<class 'str'>\n",
      "[<class 'numpy.str_'>, <class 'numpy.str_'>, <class 'numpy.str_'>, <class 'numpy.str_'>]\n"
     ]
    },
    {
     "ename": "KeyboardInterrupt",
     "evalue": "",
     "output_type": "error",
     "traceback": [
      "\u001b[0;31m---------------------------------------------------------------------------\u001b[0m",
      "\u001b[0;31mKeyboardInterrupt\u001b[0m                         Traceback (most recent call last)",
      "\u001b[0;32m<ipython-input-7-3ddcc9930c53>\u001b[0m in \u001b[0;36m<module>\u001b[0;34m\u001b[0m\n\u001b[1;32m     29\u001b[0m                                             use_rssi=False)\n\u001b[1;32m     30\u001b[0m             \u001b[0;31m# Run the actual simulation\u001b[0m\u001b[0;34m\u001b[0m\u001b[0;34m\u001b[0m\u001b[0m\n\u001b[0;32m---> 31\u001b[0;31m             \u001b[0mres\u001b[0m \u001b[0;34m=\u001b[0m \u001b[0mdct\u001b[0m\u001b[0;34m.\u001b[0m\u001b[0msimulate\u001b[0m\u001b[0;34m(\u001b[0m\u001b[0;34m)\u001b[0m\u001b[0;34m\u001b[0m\u001b[0m\n\u001b[0m\u001b[1;32m     32\u001b[0m \u001b[0;34m\u001b[0m\u001b[0m\n\u001b[1;32m     33\u001b[0m             \u001b[0;31m# Save the results\u001b[0m\u001b[0;34m\u001b[0m\u001b[0;34m\u001b[0m\u001b[0m\n",
      "\u001b[0;32m~/Desktop/Lavori_in_Corso/COVID_code/covid_code_private/DigitalContactTracing.py\u001b[0m in \u001b[0;36msimulate\u001b[0;34m(self)\u001b[0m\n\u001b[1;32m    270\u001b[0m \u001b[0;34m\u001b[0m\u001b[0m\n\u001b[1;32m    271\u001b[0m             \u001b[0;31m# Update the tracing contacts\u001b[0m\u001b[0;34m\u001b[0m\u001b[0;34m\u001b[0m\u001b[0m\n\u001b[0;32m--> 272\u001b[0;31m             \u001b[0mself\u001b[0m\u001b[0;34m.\u001b[0m\u001b[0mupdate_contacts\u001b[0m\u001b[0;34m(\u001b[0m\u001b[0mgraph\u001b[0m\u001b[0;34m)\u001b[0m\u001b[0;34m\u001b[0m\u001b[0m\n\u001b[0m\u001b[1;32m    273\u001b[0m \u001b[0;34m\u001b[0m\u001b[0m\n\u001b[1;32m    274\u001b[0m             \u001b[0;31m# Update the state of nodes that are currently in quarantine\u001b[0m\u001b[0;34m\u001b[0m\u001b[0;34m\u001b[0m\u001b[0m\n",
      "\u001b[0;32m~/Desktop/Lavori_in_Corso/COVID_code/covid_code_private/DigitalContactTracing.py\u001b[0m in \u001b[0;36mupdate_contacts\u001b[0;34m(self, graph)\u001b[0m\n\u001b[1;32m    544\u001b[0m             \u001b[0ml\u001b[0m \u001b[0;34m=\u001b[0m \u001b[0mlen\u001b[0m\u001b[0;34m(\u001b[0m\u001b[0mself\u001b[0m\u001b[0;34m.\u001b[0m\u001b[0mcontacts\u001b[0m\u001b[0;34m[\u001b[0m\u001b[0mnode\u001b[0m\u001b[0;34m]\u001b[0m\u001b[0;34m)\u001b[0m\u001b[0;34m\u001b[0m\u001b[0m\n\u001b[1;32m    545\u001b[0m             \u001b[0;32mif\u001b[0m \u001b[0ml\u001b[0m \u001b[0;34m==\u001b[0m \u001b[0mself\u001b[0m\u001b[0;34m.\u001b[0m\u001b[0mmemory_contacts\u001b[0m\u001b[0;34m:\u001b[0m\u001b[0;34m\u001b[0m\u001b[0m\n\u001b[0;32m--> 546\u001b[0;31m                 \u001b[0mself\u001b[0m\u001b[0;34m.\u001b[0m\u001b[0mcontacts\u001b[0m\u001b[0;34m[\u001b[0m\u001b[0mnode\u001b[0m\u001b[0;34m]\u001b[0m\u001b[0;34m.\u001b[0m\u001b[0mpop\u001b[0m\u001b[0;34m(\u001b[0m\u001b[0;34m-\u001b[0m\u001b[0ml\u001b[0m\u001b[0;34m)\u001b[0m\u001b[0;34m\u001b[0m\u001b[0m\n\u001b[0m\u001b[1;32m    547\u001b[0m \u001b[0;34m\u001b[0m\u001b[0m\n\u001b[1;32m    548\u001b[0m \u001b[0;34m\u001b[0m\u001b[0m\n",
      "\u001b[0;31mKeyboardInterrupt\u001b[0m: "
     ]
    }
   ],
   "source": [
    "# Initialize the random seed\n",
    "np.random.seed(PARAMETERS[\"seed\"])\n",
    "\n",
    "# Run over each configuration\n",
    "for eps_I in PARAMETERS[\"eps_Is\"]:\n",
    "    for policy in PARAMETERS[\"policies\"]:\n",
    "        filter_duration = PARAMETERS[\"policies\"][policy][0]\n",
    "        filter_rssi=None\n",
    "        results = []\n",
    "        \n",
    "        # Print some report\n",
    "        print(\"-\" * 100)\n",
    "        print('Running simulation with policy: %s' % policy)\n",
    "        print('       |_ eps_I               : %+4.2d'   % eps_I)\n",
    "        print('       |_ filter_duration     : %+4.2d' % filter_duration)\n",
    "        print('')\n",
    "        \n",
    "        # Repeat the simulation for a fixed configuration \n",
    "        for i in range(PARAMETERS[\"times\"]):\n",
    "            # Print some report\n",
    "            print('       Running simulation     [%4d / %4d]' % (i + 1, PARAMETERS['times']))\n",
    "\n",
    "            # Initialize the simulation object\n",
    "            dct = DCT.DigitalContactTracing(graphs = graphs,\n",
    "                                            PARAMETERS = PARAMETERS,\n",
    "                                            eps_I=eps_I,\n",
    "                                            filter_rssi=filter_rssi,\n",
    "                                            filter_duration=filter_duration,\n",
    "                                            use_rssi=False)\n",
    "            # Run the actual simulation\n",
    "            res = dct.simulate()\n",
    "            \n",
    "            # Save the results    \n",
    "            DCT.store_real_time(res,PARAMETERS,filter_rssi,filter_duration,eps_I)        "
   ]
  },
  {
   "cell_type": "code",
   "execution_count": null,
   "metadata": {},
   "outputs": [],
   "source": []
  }
 ],
 "metadata": {
  "kernelspec": {
   "display_name": "Python 3",
   "language": "python",
   "name": "python3"
  },
  "language_info": {
   "codemirror_mode": {
    "name": "ipython",
    "version": 3
   },
   "file_extension": ".py",
   "mimetype": "text/x-python",
   "name": "python",
   "nbconvert_exporter": "python",
   "pygments_lexer": "ipython3",
   "version": "3.7.0"
  }
 },
 "nbformat": 4,
 "nbformat_minor": 2
}
